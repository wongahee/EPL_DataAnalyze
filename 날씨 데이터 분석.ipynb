{
 "cells": [
  {
   "cell_type": "markdown",
   "id": "66080acd",
   "metadata": {},
   "source": [
    "# 환경설정"
   ]
  },
  {
   "cell_type": "code",
   "execution_count": 100,
   "id": "4c0bbcd0",
   "metadata": {},
   "outputs": [],
   "source": [
    "import os\n",
    "import pydotplus\n",
    "from IPython.display import Image\n",
    "\n",
    "import warnings         # 파이썬 경고문을 안 보여주는 코드\n",
    "warnings.filterwarnings('ignore')\n",
    "\n",
    "%matplotlib inline\n",
    "import matplotlib\n",
    "import matplotlib.pyplot as plt\n",
    "\n",
    "import pandas as pd\n",
    "\n",
    "from sklearn.model_selection import train_test_split\n",
    "\n",
    "from sklearn.metrics import accuracy_score\n",
    "from sklearn.metrics import confusion_matrix\n",
    "from sklearn.metrics import classification_report\n",
    "from sklearn.metrics import multilabel_confusion_matrix\n",
    "\n",
    "from sklearn import tree\n",
    "from sklearn.tree import DecisionTreeClassifier\n",
    "from sklearn.ensemble import RandomForestClassifier\n",
    "from sklearn.ensemble import GradientBoostingClassifier"
   ]
  },
  {
   "cell_type": "markdown",
   "id": "94db77ab",
   "metadata": {},
   "source": [
    "# 데이터 불러오기"
   ]
  },
  {
   "cell_type": "code",
   "execution_count": 27,
   "id": "358f01f0",
   "metadata": {},
   "outputs": [
    {
     "data": {
      "text/html": [
       "<div>\n",
       "<style scoped>\n",
       "    .dataframe tbody tr th:only-of-type {\n",
       "        vertical-align: middle;\n",
       "    }\n",
       "\n",
       "    .dataframe tbody tr th {\n",
       "        vertical-align: top;\n",
       "    }\n",
       "\n",
       "    .dataframe thead th {\n",
       "        text-align: right;\n",
       "    }\n",
       "</style>\n",
       "<table border=\"1\" class=\"dataframe\">\n",
       "  <thead>\n",
       "    <tr style=\"text-align: right;\">\n",
       "      <th></th>\n",
       "      <th>HomeTeam</th>\n",
       "      <th>AwayTeam</th>\n",
       "      <th>Max</th>\n",
       "      <th>Min</th>\n",
       "      <th>Wind</th>\n",
       "      <th>Rain</th>\n",
       "      <th>Humidity</th>\n",
       "      <th>Cloud</th>\n",
       "      <th>FTR</th>\n",
       "    </tr>\n",
       "  </thead>\n",
       "  <tbody>\n",
       "    <tr>\n",
       "      <th>0</th>\n",
       "      <td>Everton</td>\n",
       "      <td>Arsenal</td>\n",
       "      <td>19</td>\n",
       "      <td>18</td>\n",
       "      <td>34</td>\n",
       "      <td>0.0</td>\n",
       "      <td>0.85</td>\n",
       "      <td>0.36</td>\n",
       "      <td>0</td>\n",
       "    </tr>\n",
       "    <tr>\n",
       "      <th>1</th>\n",
       "      <td>Tottenham</td>\n",
       "      <td>Liverpool</td>\n",
       "      <td>24</td>\n",
       "      <td>15</td>\n",
       "      <td>12</td>\n",
       "      <td>0.0</td>\n",
       "      <td>0.74</td>\n",
       "      <td>0.32</td>\n",
       "      <td>2</td>\n",
       "    </tr>\n",
       "    <tr>\n",
       "      <th>2</th>\n",
       "      <td>ManU</td>\n",
       "      <td>Arsenal</td>\n",
       "      <td>16</td>\n",
       "      <td>10</td>\n",
       "      <td>20</td>\n",
       "      <td>0.9</td>\n",
       "      <td>0.78</td>\n",
       "      <td>0.58</td>\n",
       "      <td>2</td>\n",
       "    </tr>\n",
       "    <tr>\n",
       "      <th>3</th>\n",
       "      <td>ManC</td>\n",
       "      <td>Arsenal</td>\n",
       "      <td>19</td>\n",
       "      <td>8</td>\n",
       "      <td>7</td>\n",
       "      <td>0.0</td>\n",
       "      <td>0.84</td>\n",
       "      <td>0.12</td>\n",
       "      <td>2</td>\n",
       "    </tr>\n",
       "    <tr>\n",
       "      <th>4</th>\n",
       "      <td>Tottenham</td>\n",
       "      <td>ManU</td>\n",
       "      <td>22</td>\n",
       "      <td>11</td>\n",
       "      <td>10</td>\n",
       "      <td>0.0</td>\n",
       "      <td>0.75</td>\n",
       "      <td>0.26</td>\n",
       "      <td>0</td>\n",
       "    </tr>\n",
       "  </tbody>\n",
       "</table>\n",
       "</div>"
      ],
      "text/plain": [
       "    HomeTeam   AwayTeam  Max  Min  Wind  Rain  Humidity  Cloud  FTR\n",
       "0    Everton    Arsenal   19   18    34   0.0      0.85   0.36    0\n",
       "1  Tottenham  Liverpool   24   15    12   0.0      0.74   0.32    2\n",
       "2       ManU    Arsenal   16   10    20   0.9      0.78   0.58    2\n",
       "3       ManC    Arsenal   19    8     7   0.0      0.84   0.12    2\n",
       "4  Tottenham       ManU   22   11    10   0.0      0.75   0.26    0"
      ]
     },
     "execution_count": 27,
     "metadata": {},
     "output_type": "execute_result"
    }
   ],
   "source": [
    "df = pd.read_csv(\"../data/weather.csv\")\n",
    "df.head()"
   ]
  },
  {
   "cell_type": "markdown",
   "id": "82c092d2",
   "metadata": {},
   "source": [
    "# HomeTeam , AwayTeam"
   ]
  },
  {
   "cell_type": "code",
   "execution_count": 28,
   "id": "8ebc38b4",
   "metadata": {
    "ExecuteTime": {
     "end_time": "2021-09-08T19:08:48.412479Z",
     "start_time": "2021-09-08T19:08:48.408471Z"
    }
   },
   "outputs": [
    {
     "data": {
      "text/plain": [
       "Index(['HomeTeam', 'AwayTeam', 'Max', 'Min', 'Wind', 'Rain', 'Humidity',\n",
       "       'Cloud', 'FTR'],\n",
       "      dtype='object')"
      ]
     },
     "execution_count": 28,
     "metadata": {},
     "output_type": "execute_result"
    }
   ],
   "source": [
    "df.columns"
   ]
  },
  {
   "cell_type": "code",
   "execution_count": 29,
   "id": "aa9b68d8",
   "metadata": {
    "ExecuteTime": {
     "end_time": "2021-09-08T19:08:48.421436Z",
     "start_time": "2021-09-08T19:08:48.412479Z"
    }
   },
   "outputs": [],
   "source": [
    "# HomeTeam/AwayTeam 원-핫 인코딩\n",
    "df = pd.get_dummies(data=df, columns=['HomeTeam'], prefix = 'H')\n",
    "df = pd.get_dummies(data=df, columns=['AwayTeam'], prefix = 'A')"
   ]
  },
  {
   "cell_type": "code",
   "execution_count": 30,
   "id": "99d2ff55",
   "metadata": {
    "ExecuteTime": {
     "end_time": "2021-09-08T19:08:48.430438Z",
     "start_time": "2021-09-08T19:08:48.423431Z"
    }
   },
   "outputs": [
    {
     "data": {
      "text/plain": [
       "Index(['Max', 'Min', 'Wind', 'Rain', 'Humidity', 'Cloud', 'FTR', 'H_Arsenal',\n",
       "       'H_Chelsea', 'H_Everton', 'H_Liverpool', 'H_ManC', 'H_ManU',\n",
       "       'H_Tottenham', 'A_Arsenal', 'A_Chelsea', 'A_Everton', 'A_Liverpool',\n",
       "       'A_ManC', 'A_ManU', 'A_Tottenham'],\n",
       "      dtype='object')"
      ]
     },
     "execution_count": 30,
     "metadata": {},
     "output_type": "execute_result"
    }
   ],
   "source": [
    "df.columns"
   ]
  },
  {
   "cell_type": "markdown",
   "id": "2c12868d",
   "metadata": {},
   "source": [
    "# Train_test_split"
   ]
  },
  {
   "cell_type": "code",
   "execution_count": 31,
   "id": "523a01c2",
   "metadata": {
    "ExecuteTime": {
     "end_time": "2021-09-08T19:08:49.411754Z",
     "start_time": "2021-09-08T19:08:49.407765Z"
    }
   },
   "outputs": [],
   "source": [
    "feature = df.columns.drop('FTR')\n",
    "label = ['FTR']"
   ]
  },
  {
   "cell_type": "code",
   "execution_count": 32,
   "id": "05abe40f",
   "metadata": {
    "ExecuteTime": {
     "end_time": "2021-09-08T19:08:49.418757Z",
     "start_time": "2021-09-08T19:08:49.412752Z"
    }
   },
   "outputs": [],
   "source": [
    "x_train , x_test, y_train, y_test = train_test_split(df[feature], df[label], test_size=0.3 , stratify= df['FTR'], random_state=2109031430)"
   ]
  },
  {
   "cell_type": "code",
   "execution_count": 33,
   "id": "78ea80cf",
   "metadata": {
    "ExecuteTime": {
     "end_time": "2021-09-08T19:08:49.436710Z",
     "start_time": "2021-09-08T19:08:49.419754Z"
    }
   },
   "outputs": [
    {
     "name": "stdout",
     "output_type": "stream",
     "text": [
      "2    0.493197\n",
      "1    0.282313\n",
      "0    0.224490\n",
      "Name: FTR, dtype: float64\n",
      "-----------------------------------------\n",
      "2    0.500000\n",
      "1    0.277778\n",
      "0    0.222222\n",
      "Name: FTR, dtype: float64\n"
     ]
    }
   ],
   "source": [
    "# 종속변수 비율 확인\n",
    "print(y_train['FTR'].value_counts()/len(y_train))\n",
    "print(\"-----------------------------------------\")\n",
    "print(y_test['FTR'].value_counts()/len(y_test))"
   ]
  },
  {
   "cell_type": "code",
   "execution_count": 34,
   "id": "4bb0f83d",
   "metadata": {
    "ExecuteTime": {
     "end_time": "2021-09-08T19:08:49.443682Z",
     "start_time": "2021-09-08T19:08:49.438683Z"
    }
   },
   "outputs": [],
   "source": [
    "x_train.reset_index(inplace = True , drop = True)\n",
    "y_train.reset_index(inplace = True , drop = True)\n",
    "x_test.reset_index(inplace = True , drop = True)\n",
    "y_test.reset_index(inplace = True , drop = True)"
   ]
  },
  {
   "cell_type": "markdown",
   "id": "e57f042c",
   "metadata": {},
   "source": [
    "# 분석"
   ]
  },
  {
   "cell_type": "markdown",
   "id": "56f43cbb",
   "metadata": {},
   "source": [
    "## RandomForestClassifier"
   ]
  },
  {
   "cell_type": "code",
   "execution_count": 35,
   "id": "7de6f985",
   "metadata": {},
   "outputs": [
    {
     "data": {
      "text/plain": [
       "RandomForestClassifier(max_depth=3, random_state=2109031430)"
      ]
     },
     "execution_count": 35,
     "metadata": {},
     "output_type": "execute_result"
    }
   ],
   "source": [
    "forest_clf = RandomForestClassifier(random_state=2109031430 , max_depth = 3)\n",
    "\n",
    "forest_clf.fit(x_train, y_train)"
   ]
  },
  {
   "cell_type": "markdown",
   "id": "8b797709",
   "metadata": {},
   "source": [
    "### Train 정확도"
   ]
  },
  {
   "cell_type": "code",
   "execution_count": 36,
   "id": "40694741",
   "metadata": {
    "ExecuteTime": {
     "end_time": "2021-09-08T19:08:49.613784Z",
     "start_time": "2021-09-08T19:08:49.598851Z"
    }
   },
   "outputs": [
    {
     "name": "stdout",
     "output_type": "stream",
     "text": [
      "train 정확도 : 0.51\n"
     ]
    }
   ],
   "source": [
    "y_pred = forest_clf.predict(x_train)\n",
    "\n",
    "print( \"train 정확도 : {:0.2f}\".format(accuracy_score(y_train , y_pred)))"
   ]
  },
  {
   "cell_type": "markdown",
   "id": "b511bd07",
   "metadata": {},
   "source": [
    "### 테스트 정확도"
   ]
  },
  {
   "cell_type": "code",
   "execution_count": 37,
   "id": "00b2b7bf",
   "metadata": {
    "ExecuteTime": {
     "end_time": "2021-09-08T19:08:49.672626Z",
     "start_time": "2021-09-08T19:08:49.657667Z"
    }
   },
   "outputs": [
    {
     "name": "stdout",
     "output_type": "stream",
     "text": [
      "test 정확도 : 0.50\n"
     ]
    }
   ],
   "source": [
    "y_pred = forest_clf.predict(x_test)\n",
    "\n",
    "print( \"test 정확도 : {:0.2f}\".format(accuracy_score(y_test , y_pred)))"
   ]
  },
  {
   "cell_type": "markdown",
   "id": "9846f0ad",
   "metadata": {},
   "source": [
    "### 혼돈 행렬"
   ]
  },
  {
   "cell_type": "code",
   "execution_count": 38,
   "id": "d5c8c423",
   "metadata": {
    "ExecuteTime": {
     "end_time": "2021-09-08T19:08:49.752442Z",
     "start_time": "2021-09-08T19:08:49.738458Z"
    }
   },
   "outputs": [
    {
     "name": "stdout",
     "output_type": "stream",
     "text": [
      "[[ 0  2 26]\n",
      " [ 0  0 35]\n",
      " [ 0  0 63]]\n"
     ]
    }
   ],
   "source": [
    "# 행 : 실제 값 , 열 : 예측 값\n",
    "y_pred = forest_clf.predict(x_test)\n",
    "\n",
    "cf = confusion_matrix(y_test, y_pred)\n",
    "print(cf)"
   ]
  },
  {
   "cell_type": "code",
   "execution_count": 39,
   "id": "84dbb374",
   "metadata": {
    "ExecuteTime": {
     "end_time": "2021-09-08T19:08:49.758422Z",
     "start_time": "2021-09-08T19:08:49.753410Z"
    }
   },
   "outputs": [
    {
     "data": {
      "text/plain": [
       "array([[[98,  0],\n",
       "        [28,  0]],\n",
       "\n",
       "       [[89,  2],\n",
       "        [35,  0]],\n",
       "\n",
       "       [[ 2, 61],\n",
       "        [ 0, 63]]], dtype=int64)"
      ]
     },
     "execution_count": 39,
     "metadata": {},
     "output_type": "execute_result"
    }
   ],
   "source": [
    "multilabel_confusion_matrix(y_test, y_pred)"
   ]
  },
  {
   "cell_type": "code",
   "execution_count": 40,
   "id": "59109767",
   "metadata": {},
   "outputs": [
    {
     "name": "stdout",
     "output_type": "stream",
     "text": [
      "              precision    recall  f1-score   support\n",
      "\n",
      "           패       0.00      0.00      0.00        28\n",
      "           무       0.00      0.00      0.00        35\n",
      "           승       0.51      1.00      0.67        63\n",
      "\n",
      "    accuracy                           0.50       126\n",
      "   macro avg       0.17      0.33      0.22       126\n",
      "weighted avg       0.25      0.50      0.34       126\n",
      "\n"
     ]
    }
   ],
   "source": [
    "print(classification_report(y_test , y_pred , target_names = [\"패\" , \"무\" , \"승\"]))"
   ]
  },
  {
   "cell_type": "markdown",
   "id": "7e6398bc",
   "metadata": {},
   "source": [
    "## 의사결정나무"
   ]
  },
  {
   "cell_type": "code",
   "execution_count": 41,
   "id": "4ac01ead",
   "metadata": {
    "ExecuteTime": {
     "end_time": "2021-09-08T19:08:49.911986Z",
     "start_time": "2021-09-08T19:08:49.905005Z"
    }
   },
   "outputs": [],
   "source": [
    "dt_clf = DecisionTreeClassifier(random_state=2109031430 , max_depth = 2)\n",
    "\n",
    "dt_clf = dt_clf.fit(x_train, y_train)"
   ]
  },
  {
   "cell_type": "markdown",
   "id": "cf07a6d5",
   "metadata": {},
   "source": [
    "### Train 정확도"
   ]
  },
  {
   "cell_type": "code",
   "execution_count": 42,
   "id": "dc0b4e9e",
   "metadata": {
    "ExecuteTime": {
     "end_time": "2021-09-08T19:08:49.993792Z",
     "start_time": "2021-09-08T19:08:49.987807Z"
    }
   },
   "outputs": [
    {
     "name": "stdout",
     "output_type": "stream",
     "text": [
      "train 정확도 : 0.51\n"
     ]
    }
   ],
   "source": [
    "y_pred = dt_clf.predict(x_train)\n",
    "\n",
    "print( \"train 정확도 : {:0.2f}\".format(accuracy_score(y_train , y_pred)))"
   ]
  },
  {
   "cell_type": "markdown",
   "id": "6df8a2df",
   "metadata": {},
   "source": [
    "### 테스트 정확도"
   ]
  },
  {
   "cell_type": "code",
   "execution_count": 43,
   "id": "fa0a3202",
   "metadata": {
    "ExecuteTime": {
     "end_time": "2021-09-08T19:08:50.076546Z",
     "start_time": "2021-09-08T19:08:50.070561Z"
    }
   },
   "outputs": [
    {
     "name": "stdout",
     "output_type": "stream",
     "text": [
      "test 정확도 : 0.45\n"
     ]
    }
   ],
   "source": [
    "y_pred = dt_clf.predict(x_test)\n",
    "\n",
    "print( \"test 정확도 : {:0.2f}\".format(accuracy_score(y_test , y_pred)))"
   ]
  },
  {
   "cell_type": "markdown",
   "id": "b75b6ba3",
   "metadata": {},
   "source": [
    "### 혼동행렬"
   ]
  },
  {
   "cell_type": "code",
   "execution_count": 44,
   "id": "e89fa93c",
   "metadata": {
    "ExecuteTime": {
     "end_time": "2021-09-08T19:08:50.157358Z",
     "start_time": "2021-09-08T19:08:50.153340Z"
    }
   },
   "outputs": [
    {
     "name": "stdout",
     "output_type": "stream",
     "text": [
      "[[ 4 10 14]\n",
      " [ 2 11 22]\n",
      " [ 4 17 42]]\n"
     ]
    }
   ],
   "source": [
    "cm = confusion_matrix(y_test , y_pred)\n",
    "print(cm)"
   ]
  },
  {
   "cell_type": "code",
   "execution_count": 45,
   "id": "c97fe60f",
   "metadata": {
    "ExecuteTime": {
     "end_time": "2021-09-08T19:08:50.163341Z",
     "start_time": "2021-09-08T19:08:50.158338Z"
    }
   },
   "outputs": [
    {
     "data": {
      "text/plain": [
       "array([[[92,  6],\n",
       "        [24,  4]],\n",
       "\n",
       "       [[64, 27],\n",
       "        [24, 11]],\n",
       "\n",
       "       [[27, 36],\n",
       "        [21, 42]]], dtype=int64)"
      ]
     },
     "execution_count": 45,
     "metadata": {},
     "output_type": "execute_result"
    }
   ],
   "source": [
    "multilabel_confusion_matrix(y_test, y_pred)"
   ]
  },
  {
   "cell_type": "code",
   "execution_count": 46,
   "id": "9e16a5bf",
   "metadata": {
    "ExecuteTime": {
     "end_time": "2021-09-08T19:08:50.172289Z",
     "start_time": "2021-09-08T19:08:50.164311Z"
    }
   },
   "outputs": [
    {
     "name": "stdout",
     "output_type": "stream",
     "text": [
      "              precision    recall  f1-score   support\n",
      "\n",
      "           패       0.40      0.14      0.21        28\n",
      "           무       0.29      0.31      0.30        35\n",
      "           승       0.54      0.67      0.60        63\n",
      "\n",
      "    accuracy                           0.45       126\n",
      "   macro avg       0.41      0.37      0.37       126\n",
      "weighted avg       0.44      0.45      0.43       126\n",
      "\n"
     ]
    }
   ],
   "source": [
    "print(classification_report(y_test , y_pred , target_names = [\"패\" , \"무\" , \"승\"]))"
   ]
  },
  {
   "cell_type": "markdown",
   "id": "545ad4ba",
   "metadata": {},
   "source": [
    "### 시각화"
   ]
  },
  {
   "cell_type": "code",
   "execution_count": 71,
   "id": "571de43d",
   "metadata": {
    "ExecuteTime": {
     "end_time": "2021-09-08T19:08:50.252076Z",
     "start_time": "2021-09-08T19:08:50.249109Z"
    }
   },
   "outputs": [],
   "source": [
    "os.environ[\"PATH\"] += os.pathsep + 'C:\\Program Files\\Graphviz\\bin'"
   ]
  },
  {
   "cell_type": "code",
   "execution_count": 72,
   "id": "d9577595",
   "metadata": {
    "ExecuteTime": {
     "end_time": "2021-09-08T19:08:50.258061Z",
     "start_time": "2021-09-08T19:08:50.253073Z"
    }
   },
   "outputs": [],
   "source": [
    "feature_names = x_test.columns.tolist()"
   ]
  },
  {
   "cell_type": "code",
   "execution_count": 73,
   "id": "e48a4ac7",
   "metadata": {
    "ExecuteTime": {
     "end_time": "2021-09-08T19:08:50.262050Z",
     "start_time": "2021-09-08T19:08:50.259058Z"
    }
   },
   "outputs": [],
   "source": [
    "feature_names = feature_names"
   ]
  },
  {
   "cell_type": "code",
   "execution_count": 74,
   "id": "fc7d2980",
   "metadata": {
    "ExecuteTime": {
     "end_time": "2021-09-08T19:08:50.267037Z",
     "start_time": "2021-09-08T19:08:50.263047Z"
    }
   },
   "outputs": [],
   "source": [
    "target_name = np.array(['HOME_Defeat', 'HOME_tie' , 'HOME_WIN'])"
   ]
  },
  {
   "cell_type": "code",
   "execution_count": 75,
   "id": "a68a5fcf",
   "metadata": {
    "ExecuteTime": {
     "end_time": "2021-09-08T19:08:50.273021Z",
     "start_time": "2021-09-08T19:08:50.268034Z"
    }
   },
   "outputs": [],
   "source": [
    "dt_dot_data = tree.export_graphviz(dt_clf, out_file = None,\n",
    "                                  feature_names = feature_names,\n",
    "                                  class_names = target_name,\n",
    "                                  filled = True, rounded = True,\n",
    "                                  special_characters = True)"
   ]
  },
  {
   "cell_type": "code",
   "execution_count": 76,
   "id": "3b7ac66d",
   "metadata": {
    "ExecuteTime": {
     "end_time": "2021-09-08T19:08:50.326876Z",
     "start_time": "2021-09-08T19:08:50.275015Z"
    }
   },
   "outputs": [],
   "source": [
    "dt_graph = pydotplus.graph_from_dot_data(dt_dot_data)"
   ]
  },
  {
   "cell_type": "code",
   "execution_count": 77,
   "id": "0058ee9a",
   "metadata": {
    "ExecuteTime": {
     "end_time": "2021-09-08T19:08:50.468525Z",
     "start_time": "2021-09-08T19:08:50.327873Z"
    }
   },
   "outputs": [
    {
     "data": {
      "image/png": "[encoded data removed]",
      "text/plain": [
       "<IPython.core.display.Image object>"
      ]
     },
     "execution_count": 77,
     "metadata": {},
     "output_type": "execute_result"
    }
   ],
   "source": [
    "Image(dt_graph.create_png())"
   ]
  },
  {
   "cell_type": "markdown",
   "id": "4afe5270",
   "metadata": {},
   "source": [
    "## Gradient Boosting Model"
   ]
  },
  {
   "cell_type": "code",
   "execution_count": 80,
   "id": "50b6d3b4",
   "metadata": {
    "ExecuteTime": {
     "end_time": "2021-09-08T19:08:50.702480Z",
     "start_time": "2021-09-08T19:08:50.472511Z"
    }
   },
   "outputs": [
    {
     "data": {
      "text/plain": [
       "GradientBoostingClassifier(random_state=2109031430)"
      ]
     },
     "execution_count": 80,
     "metadata": {},
     "output_type": "execute_result"
    }
   ],
   "source": [
    "gbc = GradientBoostingClassifier(random_state=2109031430) # 기본값: max_depth=3, learning_rate=0.1\n",
    "\n",
    "gbc.fit(x_train, y_train)"
   ]
  },
  {
   "cell_type": "markdown",
   "id": "2b1ebb81",
   "metadata": {},
   "source": [
    "### Train 정확도"
   ]
  },
  {
   "cell_type": "code",
   "execution_count": 81,
   "id": "f496eb40",
   "metadata": {
    "ExecuteTime": {
     "end_time": "2021-09-08T19:08:50.710458Z",
     "start_time": "2021-09-08T19:08:50.703451Z"
    }
   },
   "outputs": [
    {
     "name": "stdout",
     "output_type": "stream",
     "text": [
      "train 정확도 : 0.95\n"
     ]
    }
   ],
   "source": [
    "y_pred = gbc.predict(x_train)\n",
    "score_train = accuracy_score(y_train , y_pred)\n",
    "print( \"train 정확도 : {:0.2f}\".format(accuracy_score(y_train , y_pred)))"
   ]
  },
  {
   "cell_type": "markdown",
   "id": "169e71f2",
   "metadata": {},
   "source": [
    "### 테스트 정확도"
   ]
  },
  {
   "cell_type": "code",
   "execution_count": 82,
   "id": "efe87fb5",
   "metadata": {
    "ExecuteTime": {
     "end_time": "2021-09-08T19:08:50.718411Z",
     "start_time": "2021-09-08T19:08:50.711429Z"
    }
   },
   "outputs": [
    {
     "name": "stdout",
     "output_type": "stream",
     "text": [
      "test 정확도 : 0.42\n"
     ]
    }
   ],
   "source": [
    "y_pred = gbc.predict(x_test)\n",
    "score_test = accuracy_score(y_test , y_pred)\n",
    "print( \"test 정확도 : {:0.2f}\".format(accuracy_score(y_test , y_pred)))"
   ]
  },
  {
   "cell_type": "markdown",
   "id": "662ac9d1",
   "metadata": {},
   "source": [
    "### 과적합 방지"
   ]
  },
  {
   "cell_type": "markdown",
   "id": "e2abfd9a",
   "metadata": {},
   "source": [
    "#### V1"
   ]
  },
  {
   "cell_type": "code",
   "execution_count": 83,
   "id": "ea846f44",
   "metadata": {
    "ExecuteTime": {
     "end_time": "2021-09-08T19:08:50.989349Z",
     "start_time": "2021-09-08T19:08:50.842107Z"
    }
   },
   "outputs": [
    {
     "data": {
      "text/plain": [
       "GradientBoostingClassifier(max_depth=1, random_state=2109031430)"
      ]
     },
     "execution_count": 83,
     "metadata": {},
     "output_type": "execute_result"
    }
   ],
   "source": [
    "# overfitting을 막기 위해 트리의 깊이를 줄여 pre-pruning(가지치기)을 강하게 진행\n",
    "gbc = GradientBoostingClassifier(random_state=2109031430, max_depth=1)\n",
    "\n",
    "gbc.fit(x_train, y_train)"
   ]
  },
  {
   "cell_type": "code",
   "execution_count": 84,
   "id": "51a09b15",
   "metadata": {
    "ExecuteTime": {
     "end_time": "2021-09-08T19:08:50.996328Z",
     "start_time": "2021-09-08T19:08:50.990330Z"
    }
   },
   "outputs": [
    {
     "name": "stdout",
     "output_type": "stream",
     "text": [
      "train 정확도 : 0.55\n"
     ]
    }
   ],
   "source": [
    "y_pred = gbc.predict(x_train)\n",
    "score_train_pre = accuracy_score(y_train , y_pred)\n",
    "print( \"train 정확도 : {:0.2f}\".format(accuracy_score(y_train , y_pred)))"
   ]
  },
  {
   "cell_type": "code",
   "execution_count": 85,
   "id": "0dd38ae6",
   "metadata": {
    "ExecuteTime": {
     "end_time": "2021-09-08T19:08:51.003309Z",
     "start_time": "2021-09-08T19:08:50.998317Z"
    }
   },
   "outputs": [
    {
     "name": "stdout",
     "output_type": "stream",
     "text": [
      "test 정확도 : 0.45\n"
     ]
    }
   ],
   "source": [
    "y_pred = gbc.predict(x_test)\n",
    "score_test_pre = accuracy_score(y_test , y_pred)\n",
    "print( \"test 정확도 : {:0.2f}\".format(accuracy_score(y_test , y_pred)))"
   ]
  },
  {
   "cell_type": "markdown",
   "id": "61b55a6a",
   "metadata": {},
   "source": [
    "#### 혼동행렬"
   ]
  },
  {
   "cell_type": "code",
   "execution_count": 89,
   "id": "eead9531",
   "metadata": {
    "ExecuteTime": {
     "end_time": "2021-09-08T19:08:51.009270Z",
     "start_time": "2021-09-08T19:08:51.004313Z"
    }
   },
   "outputs": [
    {
     "name": "stdout",
     "output_type": "stream",
     "text": [
      "[[ 2  3 23]\n",
      " [ 2  4 29]\n",
      " [ 3  9 51]]\n"
     ]
    }
   ],
   "source": [
    "cm = confusion_matrix(y_test , y_pred)\n",
    "print(cm)"
   ]
  },
  {
   "cell_type": "code",
   "execution_count": 90,
   "id": "6573e3f5",
   "metadata": {
    "ExecuteTime": {
     "end_time": "2021-09-08T19:08:51.015282Z",
     "start_time": "2021-09-08T19:08:51.010272Z"
    }
   },
   "outputs": [
    {
     "data": {
      "text/plain": [
       "array([[[93,  5],\n",
       "        [26,  2]],\n",
       "\n",
       "       [[79, 12],\n",
       "        [31,  4]],\n",
       "\n",
       "       [[11, 52],\n",
       "        [12, 51]]], dtype=int64)"
      ]
     },
     "execution_count": 90,
     "metadata": {},
     "output_type": "execute_result"
    }
   ],
   "source": [
    "multilabel_confusion_matrix(y_test, y_pred)"
   ]
  },
  {
   "cell_type": "code",
   "execution_count": 91,
   "id": "3509ef73",
   "metadata": {
    "ExecuteTime": {
     "end_time": "2021-09-08T19:08:51.022235Z",
     "start_time": "2021-09-08T19:08:51.016250Z"
    }
   },
   "outputs": [
    {
     "name": "stdout",
     "output_type": "stream",
     "text": [
      "              precision    recall  f1-score   support\n",
      "\n",
      "           패       0.29      0.07      0.11        28\n",
      "           무       0.25      0.11      0.16        35\n",
      "           승       0.50      0.81      0.61        63\n",
      "\n",
      "    accuracy                           0.45       126\n",
      "   macro avg       0.34      0.33      0.30       126\n",
      "weighted avg       0.38      0.45      0.38       126\n",
      "\n"
     ]
    }
   ],
   "source": [
    "print(classification_report(y_test , y_pred , target_names = [\"패\" , \"무\" , \"승\"]))"
   ]
  },
  {
   "cell_type": "markdown",
   "id": "89f8763c",
   "metadata": {},
   "source": [
    "#### V2"
   ]
  },
  {
   "cell_type": "code",
   "execution_count": 92,
   "id": "a20d8228",
   "metadata": {
    "ExecuteTime": {
     "end_time": "2021-09-08T19:08:51.300662Z",
     "start_time": "2021-09-08T19:08:51.058167Z"
    }
   },
   "outputs": [
    {
     "data": {
      "text/plain": [
       "GradientBoostingClassifier(learning_rate=0.01, random_state=2109031430)"
      ]
     },
     "execution_count": 92,
     "metadata": {},
     "output_type": "execute_result"
    }
   ],
   "source": [
    "# learning_rate 조절하여 overfitting을 해결\n",
    "gbc = GradientBoostingClassifier(random_state=2109031430 , learning_rate=0.01) # 기본값 0.1\n",
    "\n",
    "gbc.fit(x_train, y_train)"
   ]
  },
  {
   "cell_type": "code",
   "execution_count": 93,
   "id": "6927fcb4",
   "metadata": {
    "ExecuteTime": {
     "end_time": "2021-09-08T19:08:51.309638Z",
     "start_time": "2021-09-08T19:08:51.301675Z"
    }
   },
   "outputs": [
    {
     "name": "stdout",
     "output_type": "stream",
     "text": [
      "train 정확도 : 0.60\n"
     ]
    }
   ],
   "source": [
    "y_pred = gbc.predict(x_train)\n",
    "score_train_lr = accuracy_score(y_train , y_pred)\n",
    "print( \"train 정확도 : {:0.2f}\".format(accuracy_score(y_train , y_pred)))"
   ]
  },
  {
   "cell_type": "code",
   "execution_count": 94,
   "id": "a64299a9",
   "metadata": {
    "ExecuteTime": {
     "end_time": "2021-09-08T19:08:51.317616Z",
     "start_time": "2021-09-08T19:08:51.310666Z"
    }
   },
   "outputs": [
    {
     "name": "stdout",
     "output_type": "stream",
     "text": [
      "test 정확도 : 0.48\n"
     ]
    }
   ],
   "source": [
    "y_pred = gbc.predict(x_test)\n",
    "score_test_lr = accuracy_score(y_test , y_pred)\n",
    "print( \"test 정확도 : {:0.2f}\".format(accuracy_score(y_test , y_pred)))"
   ]
  },
  {
   "cell_type": "markdown",
   "id": "79d57584",
   "metadata": {},
   "source": [
    "#### 혼동행렬"
   ]
  },
  {
   "cell_type": "code",
   "execution_count": 95,
   "id": "5a3888f4",
   "metadata": {
    "ExecuteTime": {
     "end_time": "2021-09-08T19:08:51.323601Z",
     "start_time": "2021-09-08T19:08:51.318615Z"
    }
   },
   "outputs": [
    {
     "name": "stdout",
     "output_type": "stream",
     "text": [
      "[[ 2  3 23]\n",
      " [ 1  4 30]\n",
      " [ 2  6 55]]\n"
     ]
    }
   ],
   "source": [
    "cm = confusion_matrix(y_test , y_pred)\n",
    "print(cm)"
   ]
  },
  {
   "cell_type": "code",
   "execution_count": 96,
   "id": "22f25de4",
   "metadata": {
    "ExecuteTime": {
     "end_time": "2021-09-08T19:08:51.329585Z",
     "start_time": "2021-09-08T19:08:51.324616Z"
    }
   },
   "outputs": [
    {
     "data": {
      "text/plain": [
       "array([[[95,  3],\n",
       "        [26,  2]],\n",
       "\n",
       "       [[82,  9],\n",
       "        [31,  4]],\n",
       "\n",
       "       [[10, 53],\n",
       "        [ 8, 55]]], dtype=int64)"
      ]
     },
     "execution_count": 96,
     "metadata": {},
     "output_type": "execute_result"
    }
   ],
   "source": [
    "multilabel_confusion_matrix(y_test, y_pred)"
   ]
  },
  {
   "cell_type": "code",
   "execution_count": 97,
   "id": "ceaaeb82",
   "metadata": {
    "ExecuteTime": {
     "end_time": "2021-09-08T19:08:51.337591Z",
     "start_time": "2021-09-08T19:08:51.330582Z"
    }
   },
   "outputs": [
    {
     "name": "stdout",
     "output_type": "stream",
     "text": [
      "              precision    recall  f1-score   support\n",
      "\n",
      "           패       0.40      0.07      0.12        28\n",
      "           무       0.31      0.11      0.17        35\n",
      "           승       0.51      0.87      0.64        63\n",
      "\n",
      "    accuracy                           0.48       126\n",
      "   macro avg       0.41      0.35      0.31       126\n",
      "weighted avg       0.43      0.48      0.39       126\n",
      "\n"
     ]
    }
   ],
   "source": [
    "print(classification_report(y_test , y_pred , target_names = [\"패\" , \"무\" , \"승\"]))"
   ]
  },
  {
   "cell_type": "markdown",
   "id": "66e2a941",
   "metadata": {},
   "source": [
    "#### 확인"
   ]
  },
  {
   "cell_type": "code",
   "execution_count": 101,
   "id": "956fcdd9",
   "metadata": {
    "ExecuteTime": {
     "end_time": "2021-09-08T19:08:51.343548Z",
     "start_time": "2021-09-08T19:08:51.338562Z"
    }
   },
   "outputs": [],
   "source": [
    "score_set = np.round([score_train, score_test], 3)\n",
    "max_depth_score_set = np.round([score_train_pre, score_test_pre], 3)\n",
    "learning_rete_score_set = np.round([score_train_lr, score_test_lr], 3)\n",
    "\n",
    "index = np.arange(len(score_set))\n",
    "bar_width = 0.35\n",
    "bottom = 0.3\n",
    "\n",
    "list_set = [max_depth_score_set, learning_rete_score_set]\n",
    "line_set = ['--', ':']\n",
    "names = ['train', 'test']"
   ]
  },
  {
   "cell_type": "code",
   "execution_count": 102,
   "id": "54371ebe",
   "metadata": {
    "ExecuteTime": {
     "end_time": "2021-09-08T19:08:51.506113Z",
     "start_time": "2021-09-08T19:08:51.344545Z"
    }
   },
   "outputs": [
    {
     "data": {
      "image/png": "[encoded data removed]",
      "text/plain": [
       "<Figure size 432x288 with 1 Axes>"
      ]
     },
     "metadata": {
      "needs_background": "light"
     },
     "output_type": "display_data"
    }
   ],
   "source": [
    "for i, line_set, name in zip(index, line_set, names):\n",
    "    plt.hlines(score_set[i], xmin=0-bar_width,\n",
    "               xmax=index[-1]+2*bar_width,\n",
    "               linestyle=line_set, label='default {}'.format(name))\n",
    "    plt.text(0-bar_width, score_set[i]+0.005, str(score_set[i]))\n",
    "\n",
    "plt.bar(index, max_depth_score_set, width=bar_width, label='adj max_depth')\n",
    "plt.bar(index+bar_width, learning_rete_score_set, width=bar_width, label='adj learning rate')\n",
    "\n",
    "for i, ts, te in zip(index, max_depth_score_set, learning_rete_score_set):\n",
    "    plt.text(i, (bottom+ts)/2, str(ts), horizontalalignment='center')\n",
    "    plt.text(i+bar_width, (bottom+te)/2, str(te), horizontalalignment='center')\n",
    "\n",
    "plt.ylim(bottom, 1)\n",
    "plt.xticks(index+bar_width/2, names)\n",
    "plt.ylabel('score', size=15)\n",
    "plt.legend(loc='upper center', bbox_to_anchor=(0.5, 1.1), ncol=4, fancybox=True, shadow=False)\n",
    "plt.show()"
   ]
  }
 ],
 "metadata": {
  "hide_input": false,
  "kernelspec": {
   "display_name": "Python 3",
   "language": "python",
   "name": "python3"
  },
  "language_info": {
   "codemirror_mode": {
    "name": "ipython",
    "version": 3
   },
   "file_extension": ".py",
   "mimetype": "text/x-python",
   "name": "python",
   "nbconvert_exporter": "python",
   "pygments_lexer": "ipython3",
   "version": "3.8.8"
  },
  "toc": {
   "base_numbering": 1,
   "nav_menu": {},
   "number_sections": true,
   "sideBar": true,
   "skip_h1_title": false,
   "title_cell": "Table of Contents",
   "title_sidebar": "Contents",
   "toc_cell": false,
   "toc_position": {
    "height": "calc(100% - 180px)",
    "left": "10px",
    "top": "150px",
    "width": "384px"
   },
   "toc_section_display": true,
   "toc_window_display": true
  },
  "varInspector": {
   "cols": {
    "lenName": 16,
    "lenType": 16,
    "lenVar": 40
   },
   "kernels_config": {
    "python": {
     "delete_cmd_postfix": "",
     "delete_cmd_prefix": "del ",
     "library": "var_list.py",
     "varRefreshCmd": "print(var_dic_list())"
    },
    "r": {
     "delete_cmd_postfix": ") ",
     "delete_cmd_prefix": "rm(",
     "library": "var_list.r",
     "varRefreshCmd": "cat(var_dic_list()) "
    }
   },
   "types_to_exclude": [
    "module",
    "function",
    "builtin_function_or_method",
    "instance",
    "_Feature"
   ],
   "window_display": false
  }
 },
 "nbformat": 4,
 "nbformat_minor": 5
}
