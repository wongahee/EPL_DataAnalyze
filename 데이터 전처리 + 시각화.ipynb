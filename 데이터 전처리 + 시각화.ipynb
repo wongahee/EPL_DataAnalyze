{
 "cells": [
  {
   "cell_type": "markdown",
   "id": "cc6dcdc4",
   "metadata": {},
   "source": [
    "# 환경설정"
   ]
  },
  {
   "cell_type": "code",
   "execution_count": 84,
   "id": "a13e882e",
   "metadata": {},
   "outputs": [],
   "source": [
    "import warnings         # 파이썬 경고문을 안 보여주는 코드\n",
    "warnings.filterwarnings('ignore')\n",
    "\n",
    "%matplotlib inline\n",
    "import matplotlib\n",
    "import matplotlib.pyplot as plt\n",
    "\n",
    "import pandas as pd\n",
    "\n",
    "from sklearn.preprocessing import LabelEncoder"
   ]
  },
  {
   "cell_type": "markdown",
   "id": "d17453f7",
   "metadata": {},
   "source": [
    "# 데이터 불러오기"
   ]
  },
  {
   "cell_type": "code",
   "execution_count": 85,
   "id": "cdda8878",
   "metadata": {},
   "outputs": [],
   "source": [
    "df = pd.read_csv(\"../data/base_data.csv\")"
   ]
  },
  {
   "cell_type": "code",
   "execution_count": 86,
   "id": "a0ab5103",
   "metadata": {},
   "outputs": [
    {
     "data": {
      "text/html": [
       "<div>\n",
       "<style scoped>\n",
       "    .dataframe tbody tr th:only-of-type {\n",
       "        vertical-align: middle;\n",
       "    }\n",
       "\n",
       "    .dataframe tbody tr th {\n",
       "        vertical-align: top;\n",
       "    }\n",
       "\n",
       "    .dataframe thead th {\n",
       "        text-align: right;\n",
       "    }\n",
       "</style>\n",
       "<table border=\"1\" class=\"dataframe\">\n",
       "  <thead>\n",
       "    <tr style=\"text-align: right;\">\n",
       "      <th></th>\n",
       "      <th>Date</th>\n",
       "      <th>HomeTeam</th>\n",
       "      <th>AwayTeam</th>\n",
       "      <th>FTHG</th>\n",
       "      <th>FTAG</th>\n",
       "      <th>FTR</th>\n",
       "      <th>HTHG</th>\n",
       "      <th>HTAG</th>\n",
       "      <th>HTR</th>\n",
       "      <th>HS</th>\n",
       "      <th>...</th>\n",
       "      <th>AY</th>\n",
       "      <th>HR</th>\n",
       "      <th>AR</th>\n",
       "      <th>Max</th>\n",
       "      <th>Min</th>\n",
       "      <th>Wind</th>\n",
       "      <th>Rain</th>\n",
       "      <th>Humidity</th>\n",
       "      <th>Cloud</th>\n",
       "      <th>Pressure</th>\n",
       "    </tr>\n",
       "  </thead>\n",
       "  <tbody>\n",
       "    <tr>\n",
       "      <th>0</th>\n",
       "      <td>2009-08-15</td>\n",
       "      <td>Chelsea</td>\n",
       "      <td>Hull</td>\n",
       "      <td>2</td>\n",
       "      <td>1</td>\n",
       "      <td>H</td>\n",
       "      <td>1</td>\n",
       "      <td>1</td>\n",
       "      <td>D</td>\n",
       "      <td>26</td>\n",
       "      <td>...</td>\n",
       "      <td>2</td>\n",
       "      <td>0</td>\n",
       "      <td>0</td>\n",
       "      <td>24</td>\n",
       "      <td>16</td>\n",
       "      <td>15</td>\n",
       "      <td>0.0</td>\n",
       "      <td>77%</td>\n",
       "      <td>34%</td>\n",
       "      <td>1014</td>\n",
       "    </tr>\n",
       "    <tr>\n",
       "      <th>1</th>\n",
       "      <td>2009-08-15</td>\n",
       "      <td>Everton</td>\n",
       "      <td>Arsenal</td>\n",
       "      <td>1</td>\n",
       "      <td>6</td>\n",
       "      <td>A</td>\n",
       "      <td>0</td>\n",
       "      <td>3</td>\n",
       "      <td>A</td>\n",
       "      <td>8</td>\n",
       "      <td>...</td>\n",
       "      <td>0</td>\n",
       "      <td>0</td>\n",
       "      <td>0</td>\n",
       "      <td>19</td>\n",
       "      <td>18</td>\n",
       "      <td>34</td>\n",
       "      <td>0.0</td>\n",
       "      <td>85%</td>\n",
       "      <td>36%</td>\n",
       "      <td>1011</td>\n",
       "    </tr>\n",
       "    <tr>\n",
       "      <th>2</th>\n",
       "      <td>2009-08-16</td>\n",
       "      <td>ManU</td>\n",
       "      <td>Birmingham</td>\n",
       "      <td>1</td>\n",
       "      <td>0</td>\n",
       "      <td>H</td>\n",
       "      <td>1</td>\n",
       "      <td>0</td>\n",
       "      <td>H</td>\n",
       "      <td>26</td>\n",
       "      <td>...</td>\n",
       "      <td>1</td>\n",
       "      <td>0</td>\n",
       "      <td>0</td>\n",
       "      <td>17</td>\n",
       "      <td>13</td>\n",
       "      <td>17</td>\n",
       "      <td>0.5</td>\n",
       "      <td>84%</td>\n",
       "      <td>67%</td>\n",
       "      <td>1012</td>\n",
       "    </tr>\n",
       "    <tr>\n",
       "      <th>3</th>\n",
       "      <td>2009-08-16</td>\n",
       "      <td>Tottenham</td>\n",
       "      <td>Liverpool</td>\n",
       "      <td>2</td>\n",
       "      <td>1</td>\n",
       "      <td>H</td>\n",
       "      <td>1</td>\n",
       "      <td>0</td>\n",
       "      <td>H</td>\n",
       "      <td>17</td>\n",
       "      <td>...</td>\n",
       "      <td>3</td>\n",
       "      <td>0</td>\n",
       "      <td>0</td>\n",
       "      <td>24</td>\n",
       "      <td>15</td>\n",
       "      <td>12</td>\n",
       "      <td>0.0</td>\n",
       "      <td>74%</td>\n",
       "      <td>32%</td>\n",
       "      <td>1015</td>\n",
       "    </tr>\n",
       "    <tr>\n",
       "      <th>4</th>\n",
       "      <td>2009-08-19</td>\n",
       "      <td>Liverpool</td>\n",
       "      <td>Stoke</td>\n",
       "      <td>4</td>\n",
       "      <td>0</td>\n",
       "      <td>H</td>\n",
       "      <td>2</td>\n",
       "      <td>0</td>\n",
       "      <td>H</td>\n",
       "      <td>18</td>\n",
       "      <td>...</td>\n",
       "      <td>1</td>\n",
       "      <td>0</td>\n",
       "      <td>0</td>\n",
       "      <td>20</td>\n",
       "      <td>18</td>\n",
       "      <td>23</td>\n",
       "      <td>0.0</td>\n",
       "      <td>80%</td>\n",
       "      <td>12%</td>\n",
       "      <td>1016</td>\n",
       "    </tr>\n",
       "  </tbody>\n",
       "</table>\n",
       "<p>5 rows × 28 columns</p>\n",
       "</div>"
      ],
      "text/plain": [
       "         Date   HomeTeam    AwayTeam  FTHG  FTAG FTR  HTHG  HTAG HTR  HS  ...  \\\n",
       "0  2009-08-15    Chelsea        Hull     2     1   H     1     1   D  26  ...   \n",
       "1  2009-08-15    Everton     Arsenal     1     6   A     0     3   A   8  ...   \n",
       "2  2009-08-16       ManU  Birmingham     1     0   H     1     0   H  26  ...   \n",
       "3  2009-08-16  Tottenham   Liverpool     2     1   H     1     0   H  17  ...   \n",
       "4  2009-08-19  Liverpool       Stoke     4     0   H     2     0   H  18  ...   \n",
       "\n",
       "   AY  HR  AR  Max  Min  Wind  Rain  Humidity  Cloud  Pressure  \n",
       "0   2   0   0   24   16    15   0.0       77%    34%      1014  \n",
       "1   0   0   0   19   18    34   0.0       85%    36%      1011  \n",
       "2   1   0   0   17   13    17   0.5       84%    67%      1012  \n",
       "3   3   0   0   24   15    12   0.0       74%    32%      1015  \n",
       "4   1   0   0   20   18    23   0.0       80%    12%      1016  \n",
       "\n",
       "[5 rows x 28 columns]"
      ]
     },
     "execution_count": 86,
     "metadata": {},
     "output_type": "execute_result"
    }
   ],
   "source": [
    "df.head()"
   ]
  },
  {
   "cell_type": "markdown",
   "id": "634e9f94",
   "metadata": {},
   "source": [
    "# 데이터 전처리"
   ]
  },
  {
   "cell_type": "markdown",
   "id": "9510d193",
   "metadata": {},
   "source": [
    "## 7개 팀 데이터만 남기기"
   ]
  },
  {
   "cell_type": "code",
   "execution_count": 87,
   "id": "045311dd",
   "metadata": {},
   "outputs": [],
   "source": [
    "for i in range(len(df)):\n",
    "    if df['AwayTeam'][i] not in ['ManU' , 'Everton' , 'Liverpool' , 'Chelsea' , 'Arsenal' , 'ManC' , 'Tottenham']:\n",
    "        df = df.drop(i)\n",
    "\n",
    "df.reset_index(drop=True , inplace = True) # 인덱스 초기화"
   ]
  },
  {
   "cell_type": "code",
   "execution_count": 88,
   "id": "9b61e020",
   "metadata": {},
   "outputs": [
    {
     "data": {
      "text/html": [
       "<div>\n",
       "<style scoped>\n",
       "    .dataframe tbody tr th:only-of-type {\n",
       "        vertical-align: middle;\n",
       "    }\n",
       "\n",
       "    .dataframe tbody tr th {\n",
       "        vertical-align: top;\n",
       "    }\n",
       "\n",
       "    .dataframe thead th {\n",
       "        text-align: right;\n",
       "    }\n",
       "</style>\n",
       "<table border=\"1\" class=\"dataframe\">\n",
       "  <thead>\n",
       "    <tr style=\"text-align: right;\">\n",
       "      <th></th>\n",
       "      <th>Date</th>\n",
       "      <th>HomeTeam</th>\n",
       "      <th>AwayTeam</th>\n",
       "      <th>FTHG</th>\n",
       "      <th>FTAG</th>\n",
       "      <th>FTR</th>\n",
       "      <th>HTHG</th>\n",
       "      <th>HTAG</th>\n",
       "      <th>HTR</th>\n",
       "      <th>HS</th>\n",
       "      <th>...</th>\n",
       "      <th>AY</th>\n",
       "      <th>HR</th>\n",
       "      <th>AR</th>\n",
       "      <th>Max</th>\n",
       "      <th>Min</th>\n",
       "      <th>Wind</th>\n",
       "      <th>Rain</th>\n",
       "      <th>Humidity</th>\n",
       "      <th>Cloud</th>\n",
       "      <th>Pressure</th>\n",
       "    </tr>\n",
       "  </thead>\n",
       "  <tbody>\n",
       "    <tr>\n",
       "      <th>0</th>\n",
       "      <td>2009-08-15</td>\n",
       "      <td>Everton</td>\n",
       "      <td>Arsenal</td>\n",
       "      <td>1</td>\n",
       "      <td>6</td>\n",
       "      <td>A</td>\n",
       "      <td>0</td>\n",
       "      <td>3</td>\n",
       "      <td>A</td>\n",
       "      <td>8</td>\n",
       "      <td>...</td>\n",
       "      <td>0</td>\n",
       "      <td>0</td>\n",
       "      <td>0</td>\n",
       "      <td>19</td>\n",
       "      <td>18</td>\n",
       "      <td>34</td>\n",
       "      <td>0.0</td>\n",
       "      <td>85%</td>\n",
       "      <td>36%</td>\n",
       "      <td>1011</td>\n",
       "    </tr>\n",
       "    <tr>\n",
       "      <th>1</th>\n",
       "      <td>2009-08-16</td>\n",
       "      <td>Tottenham</td>\n",
       "      <td>Liverpool</td>\n",
       "      <td>2</td>\n",
       "      <td>1</td>\n",
       "      <td>H</td>\n",
       "      <td>1</td>\n",
       "      <td>0</td>\n",
       "      <td>H</td>\n",
       "      <td>17</td>\n",
       "      <td>...</td>\n",
       "      <td>3</td>\n",
       "      <td>0</td>\n",
       "      <td>0</td>\n",
       "      <td>24</td>\n",
       "      <td>15</td>\n",
       "      <td>12</td>\n",
       "      <td>0.0</td>\n",
       "      <td>74%</td>\n",
       "      <td>32%</td>\n",
       "      <td>1015</td>\n",
       "    </tr>\n",
       "    <tr>\n",
       "      <th>2</th>\n",
       "      <td>2009-08-29</td>\n",
       "      <td>ManU</td>\n",
       "      <td>Arsenal</td>\n",
       "      <td>2</td>\n",
       "      <td>1</td>\n",
       "      <td>H</td>\n",
       "      <td>0</td>\n",
       "      <td>1</td>\n",
       "      <td>A</td>\n",
       "      <td>10</td>\n",
       "      <td>...</td>\n",
       "      <td>6</td>\n",
       "      <td>0</td>\n",
       "      <td>0</td>\n",
       "      <td>16</td>\n",
       "      <td>10</td>\n",
       "      <td>20</td>\n",
       "      <td>0.9</td>\n",
       "      <td>78%</td>\n",
       "      <td>58%</td>\n",
       "      <td>1017</td>\n",
       "    </tr>\n",
       "    <tr>\n",
       "      <th>3</th>\n",
       "      <td>2009-09-12</td>\n",
       "      <td>ManC</td>\n",
       "      <td>Arsenal</td>\n",
       "      <td>4</td>\n",
       "      <td>2</td>\n",
       "      <td>H</td>\n",
       "      <td>1</td>\n",
       "      <td>0</td>\n",
       "      <td>H</td>\n",
       "      <td>10</td>\n",
       "      <td>...</td>\n",
       "      <td>2</td>\n",
       "      <td>0</td>\n",
       "      <td>0</td>\n",
       "      <td>19</td>\n",
       "      <td>8</td>\n",
       "      <td>7</td>\n",
       "      <td>0.0</td>\n",
       "      <td>84%</td>\n",
       "      <td>12%</td>\n",
       "      <td>1032</td>\n",
       "    </tr>\n",
       "    <tr>\n",
       "      <th>4</th>\n",
       "      <td>2009-09-12</td>\n",
       "      <td>Tottenham</td>\n",
       "      <td>ManU</td>\n",
       "      <td>1</td>\n",
       "      <td>3</td>\n",
       "      <td>A</td>\n",
       "      <td>1</td>\n",
       "      <td>2</td>\n",
       "      <td>A</td>\n",
       "      <td>11</td>\n",
       "      <td>...</td>\n",
       "      <td>2</td>\n",
       "      <td>0</td>\n",
       "      <td>1</td>\n",
       "      <td>22</td>\n",
       "      <td>11</td>\n",
       "      <td>10</td>\n",
       "      <td>0.0</td>\n",
       "      <td>75%</td>\n",
       "      <td>26%</td>\n",
       "      <td>1031</td>\n",
       "    </tr>\n",
       "  </tbody>\n",
       "</table>\n",
       "<p>5 rows × 28 columns</p>\n",
       "</div>"
      ],
      "text/plain": [
       "         Date   HomeTeam   AwayTeam  FTHG  FTAG FTR  HTHG  HTAG HTR  HS  ...  \\\n",
       "0  2009-08-15    Everton    Arsenal     1     6   A     0     3   A   8  ...   \n",
       "1  2009-08-16  Tottenham  Liverpool     2     1   H     1     0   H  17  ...   \n",
       "2  2009-08-29       ManU    Arsenal     2     1   H     0     1   A  10  ...   \n",
       "3  2009-09-12       ManC    Arsenal     4     2   H     1     0   H  10  ...   \n",
       "4  2009-09-12  Tottenham       ManU     1     3   A     1     2   A  11  ...   \n",
       "\n",
       "   AY  HR  AR  Max  Min  Wind  Rain  Humidity  Cloud  Pressure  \n",
       "0   0   0   0   19   18    34   0.0       85%    36%      1011  \n",
       "1   3   0   0   24   15    12   0.0       74%    32%      1015  \n",
       "2   6   0   0   16   10    20   0.9       78%    58%      1017  \n",
       "3   2   0   0   19    8     7   0.0       84%    12%      1032  \n",
       "4   2   0   1   22   11    10   0.0       75%    26%      1031  \n",
       "\n",
       "[5 rows x 28 columns]"
      ]
     },
     "execution_count": 88,
     "metadata": {},
     "output_type": "execute_result"
    }
   ],
   "source": [
    "df.head()"
   ]
  },
  {
   "cell_type": "markdown",
   "id": "8f0c4339",
   "metadata": {},
   "source": [
    "## FTR , HTR"
   ]
  },
  {
   "cell_type": "code",
   "execution_count": 89,
   "id": "debdd1fe",
   "metadata": {
    "ExecuteTime": {
     "end_time": "2021-09-08T19:08:48.828373Z",
     "start_time": "2021-09-08T19:08:48.824357Z"
    }
   },
   "outputs": [],
   "source": [
    "encoder = LabelEncoder()"
   ]
  },
  {
   "cell_type": "code",
   "execution_count": 90,
   "id": "3654b93c",
   "metadata": {
    "ExecuteTime": {
     "end_time": "2021-09-08T19:08:48.828373Z",
     "start_time": "2021-09-08T19:08:48.824357Z"
    }
   },
   "outputs": [
    {
     "data": {
      "text/plain": [
       "LabelEncoder()"
      ]
     },
     "execution_count": 90,
     "metadata": {},
     "output_type": "execute_result"
    }
   ],
   "source": [
    "encoder.fit(df['FTR'])"
   ]
  },
  {
   "cell_type": "code",
   "execution_count": 91,
   "id": "977dac98",
   "metadata": {
    "ExecuteTime": {
     "end_time": "2021-09-08T19:08:48.834331Z",
     "start_time": "2021-09-08T19:08:48.829344Z"
    }
   },
   "outputs": [
    {
     "name": "stdout",
     "output_type": "stream",
     "text": [
      "인코딩 변환값: [0 2 2 2 0]\n",
      "인코딩 클래스: ['A' 'D' 'H']\n"
     ]
    }
   ],
   "source": [
    "labels = encoder.transform(df['FTR'])\n",
    "\n",
    "print('인코딩 변환값:',labels[:5])\n",
    "print('인코딩 클래스:',encoder.classes_)"
   ]
  },
  {
   "cell_type": "code",
   "execution_count": 92,
   "id": "096ca49a",
   "metadata": {
    "ExecuteTime": {
     "end_time": "2021-09-08T19:08:48.840314Z",
     "start_time": "2021-09-08T19:08:48.835328Z"
    }
   },
   "outputs": [],
   "source": [
    "df['FTR'] = labels\n",
    "df.reset_index(drop = True , inplace = True)"
   ]
  },
  {
   "cell_type": "code",
   "execution_count": 93,
   "id": "683b2a39",
   "metadata": {
    "ExecuteTime": {
     "end_time": "2021-09-08T19:08:48.828373Z",
     "start_time": "2021-09-08T19:08:48.824357Z"
    }
   },
   "outputs": [
    {
     "data": {
      "text/plain": [
       "LabelEncoder()"
      ]
     },
     "execution_count": 93,
     "metadata": {},
     "output_type": "execute_result"
    }
   ],
   "source": [
    "encoder.fit(df['HTR'])"
   ]
  },
  {
   "cell_type": "code",
   "execution_count": 94,
   "id": "445530d9",
   "metadata": {
    "ExecuteTime": {
     "end_time": "2021-09-08T19:08:48.834331Z",
     "start_time": "2021-09-08T19:08:48.829344Z"
    }
   },
   "outputs": [
    {
     "name": "stdout",
     "output_type": "stream",
     "text": [
      "인코딩 변환값: [0 2 0 2 0]\n",
      "인코딩 클래스: ['A' 'D' 'H']\n"
     ]
    }
   ],
   "source": [
    "labels = encoder.transform(df['HTR'])\n",
    "\n",
    "print('인코딩 변환값:',labels[:5])\n",
    "print('인코딩 클래스:',encoder.classes_)"
   ]
  },
  {
   "cell_type": "code",
   "execution_count": 95,
   "id": "b2770ae9",
   "metadata": {
    "ExecuteTime": {
     "end_time": "2021-09-08T19:08:48.840314Z",
     "start_time": "2021-09-08T19:08:48.835328Z"
    }
   },
   "outputs": [],
   "source": [
    "df['HTR'] = labels\n",
    "df.reset_index(drop = True , inplace = True)"
   ]
  },
  {
   "cell_type": "code",
   "execution_count": 96,
   "id": "8148f3f6",
   "metadata": {},
   "outputs": [
    {
     "data": {
      "text/html": [
       "<div>\n",
       "<style scoped>\n",
       "    .dataframe tbody tr th:only-of-type {\n",
       "        vertical-align: middle;\n",
       "    }\n",
       "\n",
       "    .dataframe tbody tr th {\n",
       "        vertical-align: top;\n",
       "    }\n",
       "\n",
       "    .dataframe thead th {\n",
       "        text-align: right;\n",
       "    }\n",
       "</style>\n",
       "<table border=\"1\" class=\"dataframe\">\n",
       "  <thead>\n",
       "    <tr style=\"text-align: right;\">\n",
       "      <th></th>\n",
       "      <th>FTR</th>\n",
       "      <th>HTR</th>\n",
       "    </tr>\n",
       "  </thead>\n",
       "  <tbody>\n",
       "    <tr>\n",
       "      <th>0</th>\n",
       "      <td>0</td>\n",
       "      <td>0</td>\n",
       "    </tr>\n",
       "    <tr>\n",
       "      <th>1</th>\n",
       "      <td>2</td>\n",
       "      <td>2</td>\n",
       "    </tr>\n",
       "    <tr>\n",
       "      <th>2</th>\n",
       "      <td>2</td>\n",
       "      <td>0</td>\n",
       "    </tr>\n",
       "    <tr>\n",
       "      <th>3</th>\n",
       "      <td>2</td>\n",
       "      <td>2</td>\n",
       "    </tr>\n",
       "    <tr>\n",
       "      <th>4</th>\n",
       "      <td>0</td>\n",
       "      <td>0</td>\n",
       "    </tr>\n",
       "  </tbody>\n",
       "</table>\n",
       "</div>"
      ],
      "text/plain": [
       "   FTR  HTR\n",
       "0    0    0\n",
       "1    2    2\n",
       "2    2    0\n",
       "3    2    2\n",
       "4    0    0"
      ]
     },
     "execution_count": 96,
     "metadata": {},
     "output_type": "execute_result"
    }
   ],
   "source": [
    "df[['FTR' , 'HTR']].head()"
   ]
  },
  {
   "cell_type": "markdown",
   "id": "ae1ec57e",
   "metadata": {},
   "source": [
    "## Cloud , Humidity"
   ]
  },
  {
   "cell_type": "code",
   "execution_count": 97,
   "id": "e22dfc52",
   "metadata": {
    "ExecuteTime": {
     "end_time": "2021-09-08T19:08:48.473296Z",
     "start_time": "2021-09-08T19:08:48.465318Z"
    }
   },
   "outputs": [
    {
     "data": {
      "text/html": [
       "<div>\n",
       "<style scoped>\n",
       "    .dataframe tbody tr th:only-of-type {\n",
       "        vertical-align: middle;\n",
       "    }\n",
       "\n",
       "    .dataframe tbody tr th {\n",
       "        vertical-align: top;\n",
       "    }\n",
       "\n",
       "    .dataframe thead th {\n",
       "        text-align: right;\n",
       "    }\n",
       "</style>\n",
       "<table border=\"1\" class=\"dataframe\">\n",
       "  <thead>\n",
       "    <tr style=\"text-align: right;\">\n",
       "      <th></th>\n",
       "      <th>Humidity</th>\n",
       "      <th>Cloud</th>\n",
       "    </tr>\n",
       "  </thead>\n",
       "  <tbody>\n",
       "    <tr>\n",
       "      <th>0</th>\n",
       "      <td>85%</td>\n",
       "      <td>36%</td>\n",
       "    </tr>\n",
       "    <tr>\n",
       "      <th>1</th>\n",
       "      <td>74%</td>\n",
       "      <td>32%</td>\n",
       "    </tr>\n",
       "    <tr>\n",
       "      <th>2</th>\n",
       "      <td>78%</td>\n",
       "      <td>58%</td>\n",
       "    </tr>\n",
       "    <tr>\n",
       "      <th>3</th>\n",
       "      <td>84%</td>\n",
       "      <td>12%</td>\n",
       "    </tr>\n",
       "    <tr>\n",
       "      <th>4</th>\n",
       "      <td>75%</td>\n",
       "      <td>26%</td>\n",
       "    </tr>\n",
       "  </tbody>\n",
       "</table>\n",
       "</div>"
      ],
      "text/plain": [
       "  Humidity Cloud\n",
       "0      85%   36%\n",
       "1      74%   32%\n",
       "2      78%   58%\n",
       "3      84%   12%\n",
       "4      75%   26%"
      ]
     },
     "execution_count": 97,
     "metadata": {},
     "output_type": "execute_result"
    }
   ],
   "source": [
    "df[['Humidity' , 'Cloud']].head()"
   ]
  },
  {
   "cell_type": "code",
   "execution_count": 98,
   "id": "3ba697bf",
   "metadata": {
    "ExecuteTime": {
     "end_time": "2021-09-08T19:08:48.505211Z",
     "start_time": "2021-09-08T19:08:48.474294Z"
    }
   },
   "outputs": [],
   "source": [
    "for i in range(len(df)) :\n",
    "    df['Humidity'][i] = df['Humidity'][i].replace('%' , '')\n",
    "\n",
    "df['Humidity'] = df['Humidity'].astype(\"float\")\n",
    "df['Humidity'] = df['Humidity'] * 0.01"
   ]
  },
  {
   "cell_type": "code",
   "execution_count": 99,
   "id": "14fbe3ea",
   "metadata": {
    "ExecuteTime": {
     "end_time": "2021-09-08T19:08:48.537154Z",
     "start_time": "2021-09-08T19:08:48.506208Z"
    }
   },
   "outputs": [],
   "source": [
    "for i in range(len(df)) :\n",
    "    df['Cloud'][i] = df['Cloud'][i].replace('%' , '')\n",
    "\n",
    "df['Cloud'] = df['Cloud'].astype(\"float\")\n",
    "df['Cloud'] = df['Cloud'] * 0.01"
   ]
  },
  {
   "cell_type": "code",
   "execution_count": 100,
   "id": "10feeedb",
   "metadata": {
    "ExecuteTime": {
     "end_time": "2021-09-08T19:08:48.546102Z",
     "start_time": "2021-09-08T19:08:48.539121Z"
    }
   },
   "outputs": [
    {
     "data": {
      "text/html": [
       "<div>\n",
       "<style scoped>\n",
       "    .dataframe tbody tr th:only-of-type {\n",
       "        vertical-align: middle;\n",
       "    }\n",
       "\n",
       "    .dataframe tbody tr th {\n",
       "        vertical-align: top;\n",
       "    }\n",
       "\n",
       "    .dataframe thead th {\n",
       "        text-align: right;\n",
       "    }\n",
       "</style>\n",
       "<table border=\"1\" class=\"dataframe\">\n",
       "  <thead>\n",
       "    <tr style=\"text-align: right;\">\n",
       "      <th></th>\n",
       "      <th>Humidity</th>\n",
       "      <th>Cloud</th>\n",
       "    </tr>\n",
       "  </thead>\n",
       "  <tbody>\n",
       "    <tr>\n",
       "      <th>0</th>\n",
       "      <td>0.85</td>\n",
       "      <td>0.36</td>\n",
       "    </tr>\n",
       "    <tr>\n",
       "      <th>1</th>\n",
       "      <td>0.74</td>\n",
       "      <td>0.32</td>\n",
       "    </tr>\n",
       "    <tr>\n",
       "      <th>2</th>\n",
       "      <td>0.78</td>\n",
       "      <td>0.58</td>\n",
       "    </tr>\n",
       "    <tr>\n",
       "      <th>3</th>\n",
       "      <td>0.84</td>\n",
       "      <td>0.12</td>\n",
       "    </tr>\n",
       "    <tr>\n",
       "      <th>4</th>\n",
       "      <td>0.75</td>\n",
       "      <td>0.26</td>\n",
       "    </tr>\n",
       "  </tbody>\n",
       "</table>\n",
       "</div>"
      ],
      "text/plain": [
       "   Humidity  Cloud\n",
       "0      0.85   0.36\n",
       "1      0.74   0.32\n",
       "2      0.78   0.58\n",
       "3      0.84   0.12\n",
       "4      0.75   0.26"
      ]
     },
     "execution_count": 100,
     "metadata": {},
     "output_type": "execute_result"
    }
   ],
   "source": [
    "df[['Humidity' , 'Cloud']].head()"
   ]
  },
  {
   "cell_type": "markdown",
   "id": "3db53ad8",
   "metadata": {},
   "source": [
    "# 시각화"
   ]
  },
  {
   "cell_type": "markdown",
   "id": "7a416c8f",
   "metadata": {},
   "source": [
    "## 종속변수(=FTR) 확인"
   ]
  },
  {
   "cell_type": "code",
   "execution_count": 101,
   "id": "23c5aa2a",
   "metadata": {},
   "outputs": [
    {
     "data": {
      "image/png": "[encoded data removed]",
      "text/plain": [
       "<Figure size 432x288 with 1 Axes>"
      ]
     },
     "metadata": {
      "needs_background": "light"
     },
     "output_type": "display_data"
    }
   ],
   "source": [
    "plt.title(\"FTR\")\n",
    "plt.hist(df['FTR'])\n",
    "plt.show()"
   ]
  },
  {
   "cell_type": "markdown",
   "id": "a3e0b5c8",
   "metadata": {},
   "source": [
    "## 상대전적"
   ]
  },
  {
   "cell_type": "code",
   "execution_count": 102,
   "id": "73b87c8d",
   "metadata": {
    "ExecuteTime": {
     "end_time": "2021-09-08T19:08:49.049784Z",
     "start_time": "2021-09-08T19:08:49.046765Z"
    }
   },
   "outputs": [],
   "source": [
    "df['Win'] = 0\n",
    "df['Draw'] = 0\n",
    "df['Defeat'] = 0"
   ]
  },
  {
   "cell_type": "code",
   "execution_count": 103,
   "id": "cdb1b9e6",
   "metadata": {
    "ExecuteTime": {
     "end_time": "2021-09-08T19:08:49.085400Z",
     "start_time": "2021-09-08T19:08:49.050752Z"
    }
   },
   "outputs": [],
   "source": [
    "for i in range(len(df)):\n",
    "    if df['FTR'][i] == 2 :\n",
    "        df['Win'][i] = 1\n",
    "    elif df['FTR'][i] == 1 :\n",
    "        df['Draw'][i] = 1\n",
    "    else :\n",
    "        df['Defeat'][i] = 1"
   ]
  },
  {
   "cell_type": "code",
   "execution_count": 104,
   "id": "b579de6a",
   "metadata": {
    "ExecuteTime": {
     "end_time": "2021-09-08T19:08:49.134298Z",
     "start_time": "2021-09-08T19:08:49.086432Z"
    },
    "scrolled": true
   },
   "outputs": [
    {
     "name": "stdout",
     "output_type": "stream",
     "text": [
      "                    Defeat  Draw  Win\n",
      "HomeTeam AwayTeam                    \n",
      "Arsenal  Chelsea         3     4    3\n",
      "         Everton         0     3    7\n",
      "         Liverpool       2     5    3\n",
      "         ManC            3     5    2\n",
      "         ManU            4     2    4\n",
      "         Tottenham       1     3    6\n",
      "                    Defeat  Draw  Win\n",
      "HomeTeam AwayTeam                    \n",
      "Chelsea  Arsenal         1     1    8\n",
      "         Everton         0     4    6\n",
      "         Liverpool       4     3    3\n",
      "         ManC            3     2    5\n",
      "         ManU            1     3    6\n",
      "         Tottenham       1     3    6\n",
      "                    Defeat  Draw  Win\n",
      "HomeTeam AwayTeam                    \n",
      "Everton  Arsenal         5     2    3\n",
      "         Chelsea         3     1    6\n",
      "         Liverpool       3     6    1\n",
      "         ManC            4     1    5\n",
      "         ManU            3     2    5\n",
      "         Tottenham       3     4    3\n",
      "                     Defeat  Draw  Win\n",
      "HomeTeam  AwayTeam                    \n",
      "Liverpool Arsenal         3     3    4\n",
      "          Chelsea         3     4    3\n",
      "          Everton         0     4    6\n",
      "          ManC            0     4    6\n",
      "          ManU            3     3    4\n",
      "          Tottenham       1     3    6\n",
      "                    Defeat  Draw  Win\n",
      "HomeTeam AwayTeam                    \n",
      "ManC     Arsenal         2     2    6\n",
      "         Chelsea         2     1    7\n",
      "         Everton         2     4    4\n",
      "         Liverpool       1     3    6\n",
      "         ManU            4     2    4\n",
      "         Tottenham       2     1    7\n",
      "                    Defeat  Draw  Win\n",
      "HomeTeam AwayTeam                    \n",
      "ManU     Arsenal         0     3    7\n",
      "         Chelsea         2     4    4\n",
      "         Everton         1     2    7\n",
      "         Liverpool       1     2    7\n",
      "         ManC            6     1    3\n",
      "         Tottenham       3     0    7\n",
      "                     Defeat  Draw  Win\n",
      "HomeTeam  AwayTeam                    \n",
      "Tottenham Arsenal         1     3    6\n",
      "          Chelsea         2     4    4\n",
      "          Everton         0     4    6\n",
      "          Liverpool       3     2    5\n",
      "          ManC            5     1    4\n",
      "          ManU            3     4    3\n"
     ]
    }
   ],
   "source": [
    "for i in range(7):\n",
    "    print(pd.pivot_table(df, index = ['HomeTeam','AwayTeam'], values = ['Win' , 'Defeat' , 'Draw'], aggfunc=np.sum)[i*6:i*6+6])"
   ]
  },
  {
   "cell_type": "markdown",
   "id": "7f0f142d",
   "metadata": {},
   "source": [
    "## 날씨 데이터 시각화"
   ]
  },
  {
   "cell_type": "code",
   "execution_count": 105,
   "id": "5830095b",
   "metadata": {
    "ExecuteTime": {
     "end_time": "2021-09-08T19:08:49.139257Z",
     "start_time": "2021-09-08T19:08:49.135267Z"
    }
   },
   "outputs": [],
   "source": [
    "def sigmoid(x):\n",
    "    return 1 / (1 + np.exp(-x))"
   ]
  },
  {
   "cell_type": "code",
   "execution_count": 106,
   "id": "e210f72f",
   "metadata": {
    "ExecuteTime": {
     "end_time": "2021-09-08T19:08:49.144243Z",
     "start_time": "2021-09-08T19:08:49.140254Z"
    }
   },
   "outputs": [],
   "source": [
    "col = ['Max' , 'Min']"
   ]
  },
  {
   "cell_type": "code",
   "execution_count": 107,
   "id": "f8ee43e9",
   "metadata": {
    "ExecuteTime": {
     "end_time": "2021-09-08T19:08:49.167827Z",
     "start_time": "2021-09-08T19:08:49.145240Z"
    }
   },
   "outputs": [
    {
     "data": {
      "text/plain": [
       "1    208\n",
       "0     94\n",
       "Name: FTR, dtype: int64"
      ]
     },
     "execution_count": 107,
     "metadata": {},
     "output_type": "execute_result"
    }
   ],
   "source": [
    "# 무승부 제거\n",
    "df_v = df.drop(df[df['FTR'] == 1].index).copy()\n",
    "\n",
    "df_v.reset_index(inplace = True , drop = True)\n",
    "\n",
    "# 시그모이드 적용하기 위해 승리 값을 1로 변경\n",
    "for i in range(len(df_v)):\n",
    "    if df_v['FTR'][i] == 2 :\n",
    "        df_v['FTR'][i] = 1\n",
    "\n",
    "df_v['FTR'].value_counts()"
   ]
  },
  {
   "cell_type": "code",
   "execution_count": 108,
   "id": "de8a6c31",
   "metadata": {
    "ExecuteTime": {
     "end_time": "2021-09-08T19:08:49.393833Z",
     "start_time": "2021-09-08T19:08:49.168798Z"
    },
    "scrolled": false
   },
   "outputs": [
    {
     "data": {
      "image/png": "[encoded data removed]",
      "text/plain": [
       "<Figure size 432x288 with 1 Axes>"
      ]
     },
     "metadata": {
      "needs_background": "light"
     },
     "output_type": "display_data"
    },
    {
     "data": {
      "image/png": "[encoded data removed]",
      "text/plain": [
       "<Figure size 432x288 with 1 Axes>"
      ]
     },
     "metadata": {
      "needs_background": "light"
     },
     "output_type": "display_data"
    }
   ],
   "source": [
    "for i in range(len(col)):\n",
    "    df_v = df_v.sort_values(by=[col[i]], ascending=[True]) \n",
    "    df_v.reset_index(drop = True , inplace = True)\n",
    "    fig = plt.figure(figsize=(6,4))\n",
    "    ax = fig.add_subplot()\n",
    "    ax.axhline(0.5 , color = 'b')\n",
    "    plt.title(col[i])\n",
    "    plt.scatter(df_v[col[i]] , df_v['FTR'])\n",
    "    plt.plot( df_v[col[i]] , sigmoid(df_v[col[i]]) )\n",
    "    plt.show()"
   ]
  },
  {
   "cell_type": "markdown",
   "id": "a32fc348",
   "metadata": {},
   "source": [
    "# 날씨 , 축구 데이터로 나누기"
   ]
  },
  {
   "cell_type": "code",
   "execution_count": 109,
   "id": "8abb322d",
   "metadata": {
    "ExecuteTime": {
     "end_time": "2021-09-08T19:08:48.345660Z",
     "start_time": "2021-09-08T19:08:48.339658Z"
    }
   },
   "outputs": [],
   "source": [
    "df_w = df[['HomeTeam' , 'AwayTeam' , 'Max' , 'Min' , 'Wind' , 'Rain' ,'Humidity' , 'Cloud' , 'FTR']]"
   ]
  },
  {
   "cell_type": "code",
   "execution_count": 110,
   "id": "dbf7d020",
   "metadata": {
    "ExecuteTime": {
     "end_time": "2021-09-08T19:08:48.349658Z",
     "start_time": "2021-09-08T19:08:48.346635Z"
    }
   },
   "outputs": [],
   "source": [
    "df_s = df.drop(columns = ['Date' , 'Max' , 'Min' , 'Wind' , 'Rain' ,'Humidity' , 'Cloud' ,'Pressure' , 'FTHG' , 'FTAG' , 'Win' , 'Draw' ,'Defeat'])"
   ]
  },
  {
   "cell_type": "code",
   "execution_count": 111,
   "id": "178e2085",
   "metadata": {
    "ExecuteTime": {
     "end_time": "2021-09-08T19:08:48.356637Z",
     "start_time": "2021-09-08T19:08:48.350625Z"
    }
   },
   "outputs": [],
   "source": [
    "df_w.reset_index(drop=True , inplace = True)\n",
    "df_s.reset_index(drop=True , inplace = True)"
   ]
  },
  {
   "cell_type": "code",
   "execution_count": 112,
   "id": "a50e2e0a",
   "metadata": {},
   "outputs": [
    {
     "data": {
      "text/html": [
       "<div>\n",
       "<style scoped>\n",
       "    .dataframe tbody tr th:only-of-type {\n",
       "        vertical-align: middle;\n",
       "    }\n",
       "\n",
       "    .dataframe tbody tr th {\n",
       "        vertical-align: top;\n",
       "    }\n",
       "\n",
       "    .dataframe thead th {\n",
       "        text-align: right;\n",
       "    }\n",
       "</style>\n",
       "<table border=\"1\" class=\"dataframe\">\n",
       "  <thead>\n",
       "    <tr style=\"text-align: right;\">\n",
       "      <th></th>\n",
       "      <th>HomeTeam</th>\n",
       "      <th>AwayTeam</th>\n",
       "      <th>Max</th>\n",
       "      <th>Min</th>\n",
       "      <th>Wind</th>\n",
       "      <th>Rain</th>\n",
       "      <th>Humidity</th>\n",
       "      <th>Cloud</th>\n",
       "      <th>FTR</th>\n",
       "    </tr>\n",
       "  </thead>\n",
       "  <tbody>\n",
       "    <tr>\n",
       "      <th>0</th>\n",
       "      <td>Everton</td>\n",
       "      <td>Arsenal</td>\n",
       "      <td>19</td>\n",
       "      <td>18</td>\n",
       "      <td>34</td>\n",
       "      <td>0.0</td>\n",
       "      <td>0.85</td>\n",
       "      <td>0.36</td>\n",
       "      <td>0</td>\n",
       "    </tr>\n",
       "    <tr>\n",
       "      <th>1</th>\n",
       "      <td>Tottenham</td>\n",
       "      <td>Liverpool</td>\n",
       "      <td>24</td>\n",
       "      <td>15</td>\n",
       "      <td>12</td>\n",
       "      <td>0.0</td>\n",
       "      <td>0.74</td>\n",
       "      <td>0.32</td>\n",
       "      <td>2</td>\n",
       "    </tr>\n",
       "    <tr>\n",
       "      <th>2</th>\n",
       "      <td>ManU</td>\n",
       "      <td>Arsenal</td>\n",
       "      <td>16</td>\n",
       "      <td>10</td>\n",
       "      <td>20</td>\n",
       "      <td>0.9</td>\n",
       "      <td>0.78</td>\n",
       "      <td>0.58</td>\n",
       "      <td>2</td>\n",
       "    </tr>\n",
       "    <tr>\n",
       "      <th>3</th>\n",
       "      <td>ManC</td>\n",
       "      <td>Arsenal</td>\n",
       "      <td>19</td>\n",
       "      <td>8</td>\n",
       "      <td>7</td>\n",
       "      <td>0.0</td>\n",
       "      <td>0.84</td>\n",
       "      <td>0.12</td>\n",
       "      <td>2</td>\n",
       "    </tr>\n",
       "    <tr>\n",
       "      <th>4</th>\n",
       "      <td>Tottenham</td>\n",
       "      <td>ManU</td>\n",
       "      <td>22</td>\n",
       "      <td>11</td>\n",
       "      <td>10</td>\n",
       "      <td>0.0</td>\n",
       "      <td>0.75</td>\n",
       "      <td>0.26</td>\n",
       "      <td>0</td>\n",
       "    </tr>\n",
       "  </tbody>\n",
       "</table>\n",
       "</div>"
      ],
      "text/plain": [
       "    HomeTeam   AwayTeam  Max  Min  Wind  Rain  Humidity  Cloud  FTR\n",
       "0    Everton    Arsenal   19   18    34   0.0      0.85   0.36    0\n",
       "1  Tottenham  Liverpool   24   15    12   0.0      0.74   0.32    2\n",
       "2       ManU    Arsenal   16   10    20   0.9      0.78   0.58    2\n",
       "3       ManC    Arsenal   19    8     7   0.0      0.84   0.12    2\n",
       "4  Tottenham       ManU   22   11    10   0.0      0.75   0.26    0"
      ]
     },
     "execution_count": 112,
     "metadata": {},
     "output_type": "execute_result"
    }
   ],
   "source": [
    "df_w.head()"
   ]
  },
  {
   "cell_type": "code",
   "execution_count": 113,
   "id": "9f320fbd",
   "metadata": {},
   "outputs": [
    {
     "data": {
      "text/html": [
       "<div>\n",
       "<style scoped>\n",
       "    .dataframe tbody tr th:only-of-type {\n",
       "        vertical-align: middle;\n",
       "    }\n",
       "\n",
       "    .dataframe tbody tr th {\n",
       "        vertical-align: top;\n",
       "    }\n",
       "\n",
       "    .dataframe thead th {\n",
       "        text-align: right;\n",
       "    }\n",
       "</style>\n",
       "<table border=\"1\" class=\"dataframe\">\n",
       "  <thead>\n",
       "    <tr style=\"text-align: right;\">\n",
       "      <th></th>\n",
       "      <th>HomeTeam</th>\n",
       "      <th>AwayTeam</th>\n",
       "      <th>FTR</th>\n",
       "      <th>HTHG</th>\n",
       "      <th>HTAG</th>\n",
       "      <th>HTR</th>\n",
       "      <th>HS</th>\n",
       "      <th>AS</th>\n",
       "      <th>HST</th>\n",
       "      <th>AST</th>\n",
       "      <th>HF</th>\n",
       "      <th>AF</th>\n",
       "      <th>HC</th>\n",
       "      <th>AC</th>\n",
       "      <th>HY</th>\n",
       "      <th>AY</th>\n",
       "      <th>HR</th>\n",
       "      <th>AR</th>\n",
       "    </tr>\n",
       "  </thead>\n",
       "  <tbody>\n",
       "    <tr>\n",
       "      <th>0</th>\n",
       "      <td>Everton</td>\n",
       "      <td>Arsenal</td>\n",
       "      <td>0</td>\n",
       "      <td>0</td>\n",
       "      <td>3</td>\n",
       "      <td>0</td>\n",
       "      <td>8</td>\n",
       "      <td>15</td>\n",
       "      <td>5</td>\n",
       "      <td>9</td>\n",
       "      <td>11</td>\n",
       "      <td>13</td>\n",
       "      <td>4</td>\n",
       "      <td>9</td>\n",
       "      <td>0</td>\n",
       "      <td>0</td>\n",
       "      <td>0</td>\n",
       "      <td>0</td>\n",
       "    </tr>\n",
       "    <tr>\n",
       "      <th>1</th>\n",
       "      <td>Tottenham</td>\n",
       "      <td>Liverpool</td>\n",
       "      <td>2</td>\n",
       "      <td>1</td>\n",
       "      <td>0</td>\n",
       "      <td>2</td>\n",
       "      <td>17</td>\n",
       "      <td>6</td>\n",
       "      <td>11</td>\n",
       "      <td>3</td>\n",
       "      <td>14</td>\n",
       "      <td>16</td>\n",
       "      <td>6</td>\n",
       "      <td>5</td>\n",
       "      <td>3</td>\n",
       "      <td>3</td>\n",
       "      <td>0</td>\n",
       "      <td>0</td>\n",
       "    </tr>\n",
       "    <tr>\n",
       "      <th>2</th>\n",
       "      <td>ManU</td>\n",
       "      <td>Arsenal</td>\n",
       "      <td>2</td>\n",
       "      <td>0</td>\n",
       "      <td>1</td>\n",
       "      <td>0</td>\n",
       "      <td>10</td>\n",
       "      <td>9</td>\n",
       "      <td>4</td>\n",
       "      <td>3</td>\n",
       "      <td>21</td>\n",
       "      <td>15</td>\n",
       "      <td>6</td>\n",
       "      <td>5</td>\n",
       "      <td>3</td>\n",
       "      <td>6</td>\n",
       "      <td>0</td>\n",
       "      <td>0</td>\n",
       "    </tr>\n",
       "    <tr>\n",
       "      <th>3</th>\n",
       "      <td>ManC</td>\n",
       "      <td>Arsenal</td>\n",
       "      <td>2</td>\n",
       "      <td>1</td>\n",
       "      <td>0</td>\n",
       "      <td>2</td>\n",
       "      <td>10</td>\n",
       "      <td>19</td>\n",
       "      <td>6</td>\n",
       "      <td>9</td>\n",
       "      <td>13</td>\n",
       "      <td>12</td>\n",
       "      <td>3</td>\n",
       "      <td>12</td>\n",
       "      <td>3</td>\n",
       "      <td>2</td>\n",
       "      <td>0</td>\n",
       "      <td>0</td>\n",
       "    </tr>\n",
       "    <tr>\n",
       "      <th>4</th>\n",
       "      <td>Tottenham</td>\n",
       "      <td>ManU</td>\n",
       "      <td>0</td>\n",
       "      <td>1</td>\n",
       "      <td>2</td>\n",
       "      <td>0</td>\n",
       "      <td>11</td>\n",
       "      <td>17</td>\n",
       "      <td>7</td>\n",
       "      <td>13</td>\n",
       "      <td>16</td>\n",
       "      <td>13</td>\n",
       "      <td>3</td>\n",
       "      <td>9</td>\n",
       "      <td>3</td>\n",
       "      <td>2</td>\n",
       "      <td>0</td>\n",
       "      <td>1</td>\n",
       "    </tr>\n",
       "  </tbody>\n",
       "</table>\n",
       "</div>"
      ],
      "text/plain": [
       "    HomeTeam   AwayTeam  FTR  HTHG  HTAG  HTR  HS  AS  HST  AST  HF  AF  HC  \\\n",
       "0    Everton    Arsenal    0     0     3    0   8  15    5    9  11  13   4   \n",
       "1  Tottenham  Liverpool    2     1     0    2  17   6   11    3  14  16   6   \n",
       "2       ManU    Arsenal    2     0     1    0  10   9    4    3  21  15   6   \n",
       "3       ManC    Arsenal    2     1     0    2  10  19    6    9  13  12   3   \n",
       "4  Tottenham       ManU    0     1     2    0  11  17    7   13  16  13   3   \n",
       "\n",
       "   AC  HY  AY  HR  AR  \n",
       "0   9   0   0   0   0  \n",
       "1   5   3   3   0   0  \n",
       "2   5   3   6   0   0  \n",
       "3  12   3   2   0   0  \n",
       "4   9   3   2   0   1  "
      ]
     },
     "execution_count": 113,
     "metadata": {},
     "output_type": "execute_result"
    }
   ],
   "source": [
    "df_s.head()"
   ]
  },
  {
   "cell_type": "code",
   "execution_count": 114,
   "id": "8600fbf4",
   "metadata": {
    "ExecuteTime": {
     "end_time": "2021-09-08T19:08:48.375586Z",
     "start_time": "2021-09-08T19:08:48.357606Z"
    }
   },
   "outputs": [],
   "source": [
    "df_w.to_csv(\"../data/weather.csv\" , index = False)\n",
    "df_s.to_csv(\"../data/soccer.csv\" , index = False)"
   ]
  }
 ],
 "metadata": {
  "hide_input": false,
  "kernelspec": {
   "display_name": "Python 3",
   "language": "python",
   "name": "python3"
  },
  "language_info": {
   "codemirror_mode": {
    "name": "ipython",
    "version": 3
   },
   "file_extension": ".py",
   "mimetype": "text/x-python",
   "name": "python",
   "nbconvert_exporter": "python",
   "pygments_lexer": "ipython3",
   "version": "3.8.8"
  },
  "toc": {
   "base_numbering": 1,
   "nav_menu": {},
   "number_sections": true,
   "sideBar": true,
   "skip_h1_title": false,
   "title_cell": "Table of Contents",
   "title_sidebar": "Contents",
   "toc_cell": false,
   "toc_position": {
    "height": "calc(100% - 180px)",
    "left": "10px",
    "top": "150px",
    "width": "384px"
   },
   "toc_section_display": true,
   "toc_window_display": true
  },
  "varInspector": {
   "cols": {
    "lenName": 16,
    "lenType": 16,
    "lenVar": 40
   },
   "kernels_config": {
    "python": {
     "delete_cmd_postfix": "",
     "delete_cmd_prefix": "del ",
     "library": "var_list.py",
     "varRefreshCmd": "print(var_dic_list())"
    },
    "r": {
     "delete_cmd_postfix": ") ",
     "delete_cmd_prefix": "rm(",
     "library": "var_list.r",
     "varRefreshCmd": "cat(var_dic_list()) "
    }
   },
   "types_to_exclude": [
    "module",
    "function",
    "builtin_function_or_method",
    "instance",
    "_Feature"
   ],
   "window_display": false
  }
 },
 "nbformat": 4,
 "nbformat_minor": 5
}
