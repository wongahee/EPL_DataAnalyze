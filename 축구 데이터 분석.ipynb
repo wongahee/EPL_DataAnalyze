{
 "cells": [
  {
   "cell_type": "markdown",
   "id": "40227728",
   "metadata": {},
   "source": [
    "# 환경설정"
   ]
  },
  {
   "cell_type": "code",
   "execution_count": 50,
   "id": "77905f3d",
   "metadata": {},
   "outputs": [],
   "source": [
    "import os\n",
    "import pydotplus\n",
    "from IPython.display import Image\n",
    "\n",
    "import warnings         # 파이썬 경고문을 안 보여주는 코드\n",
    "warnings.filterwarnings('ignore')\n",
    "\n",
    "%matplotlib inline\n",
    "import matplotlib\n",
    "import matplotlib.pyplot as plt\n",
    "\n",
    "import pandas as pd\n",
    "\n",
    "from sklearn.model_selection import train_test_split\n",
    "\n",
    "from sklearn.metrics import accuracy_score\n",
    "from sklearn.metrics import confusion_matrix\n",
    "from sklearn.metrics import classification_report\n",
    "from sklearn.metrics import multilabel_confusion_matrix\n",
    "\n",
    "from sklearn import tree\n",
    "from sklearn.tree import DecisionTreeClassifier\n",
    "from sklearn.ensemble import RandomForestClassifier\n",
    "from sklearn.ensemble import GradientBoostingClassifier"
   ]
  },
  {
   "cell_type": "markdown",
   "id": "c3341d96",
   "metadata": {},
   "source": [
    "# 데이터 불러오기"
   ]
  },
  {
   "cell_type": "code",
   "execution_count": 51,
   "id": "4fa08c2a",
   "metadata": {},
   "outputs": [
    {
     "data": {
      "text/html": [
       "<div>\n",
       "<style scoped>\n",
       "    .dataframe tbody tr th:only-of-type {\n",
       "        vertical-align: middle;\n",
       "    }\n",
       "\n",
       "    .dataframe tbody tr th {\n",
       "        vertical-align: top;\n",
       "    }\n",
       "\n",
       "    .dataframe thead th {\n",
       "        text-align: right;\n",
       "    }\n",
       "</style>\n",
       "<table border=\"1\" class=\"dataframe\">\n",
       "  <thead>\n",
       "    <tr style=\"text-align: right;\">\n",
       "      <th></th>\n",
       "      <th>HomeTeam</th>\n",
       "      <th>AwayTeam</th>\n",
       "      <th>FTR</th>\n",
       "      <th>HTHG</th>\n",
       "      <th>HTAG</th>\n",
       "      <th>HTR</th>\n",
       "      <th>HS</th>\n",
       "      <th>AS</th>\n",
       "      <th>HST</th>\n",
       "      <th>AST</th>\n",
       "      <th>HF</th>\n",
       "      <th>AF</th>\n",
       "      <th>HC</th>\n",
       "      <th>AC</th>\n",
       "      <th>HY</th>\n",
       "      <th>AY</th>\n",
       "      <th>HR</th>\n",
       "      <th>AR</th>\n",
       "    </tr>\n",
       "  </thead>\n",
       "  <tbody>\n",
       "    <tr>\n",
       "      <th>0</th>\n",
       "      <td>Everton</td>\n",
       "      <td>Arsenal</td>\n",
       "      <td>0</td>\n",
       "      <td>0</td>\n",
       "      <td>3</td>\n",
       "      <td>0</td>\n",
       "      <td>8</td>\n",
       "      <td>15</td>\n",
       "      <td>5</td>\n",
       "      <td>9</td>\n",
       "      <td>11</td>\n",
       "      <td>13</td>\n",
       "      <td>4</td>\n",
       "      <td>9</td>\n",
       "      <td>0</td>\n",
       "      <td>0</td>\n",
       "      <td>0</td>\n",
       "      <td>0</td>\n",
       "    </tr>\n",
       "    <tr>\n",
       "      <th>1</th>\n",
       "      <td>Tottenham</td>\n",
       "      <td>Liverpool</td>\n",
       "      <td>2</td>\n",
       "      <td>1</td>\n",
       "      <td>0</td>\n",
       "      <td>2</td>\n",
       "      <td>17</td>\n",
       "      <td>6</td>\n",
       "      <td>11</td>\n",
       "      <td>3</td>\n",
       "      <td>14</td>\n",
       "      <td>16</td>\n",
       "      <td>6</td>\n",
       "      <td>5</td>\n",
       "      <td>3</td>\n",
       "      <td>3</td>\n",
       "      <td>0</td>\n",
       "      <td>0</td>\n",
       "    </tr>\n",
       "    <tr>\n",
       "      <th>2</th>\n",
       "      <td>ManU</td>\n",
       "      <td>Arsenal</td>\n",
       "      <td>2</td>\n",
       "      <td>0</td>\n",
       "      <td>1</td>\n",
       "      <td>0</td>\n",
       "      <td>10</td>\n",
       "      <td>9</td>\n",
       "      <td>4</td>\n",
       "      <td>3</td>\n",
       "      <td>21</td>\n",
       "      <td>15</td>\n",
       "      <td>6</td>\n",
       "      <td>5</td>\n",
       "      <td>3</td>\n",
       "      <td>6</td>\n",
       "      <td>0</td>\n",
       "      <td>0</td>\n",
       "    </tr>\n",
       "    <tr>\n",
       "      <th>3</th>\n",
       "      <td>ManC</td>\n",
       "      <td>Arsenal</td>\n",
       "      <td>2</td>\n",
       "      <td>1</td>\n",
       "      <td>0</td>\n",
       "      <td>2</td>\n",
       "      <td>10</td>\n",
       "      <td>19</td>\n",
       "      <td>6</td>\n",
       "      <td>9</td>\n",
       "      <td>13</td>\n",
       "      <td>12</td>\n",
       "      <td>3</td>\n",
       "      <td>12</td>\n",
       "      <td>3</td>\n",
       "      <td>2</td>\n",
       "      <td>0</td>\n",
       "      <td>0</td>\n",
       "    </tr>\n",
       "    <tr>\n",
       "      <th>4</th>\n",
       "      <td>Tottenham</td>\n",
       "      <td>ManU</td>\n",
       "      <td>0</td>\n",
       "      <td>1</td>\n",
       "      <td>2</td>\n",
       "      <td>0</td>\n",
       "      <td>11</td>\n",
       "      <td>17</td>\n",
       "      <td>7</td>\n",
       "      <td>13</td>\n",
       "      <td>16</td>\n",
       "      <td>13</td>\n",
       "      <td>3</td>\n",
       "      <td>9</td>\n",
       "      <td>3</td>\n",
       "      <td>2</td>\n",
       "      <td>0</td>\n",
       "      <td>1</td>\n",
       "    </tr>\n",
       "  </tbody>\n",
       "</table>\n",
       "</div>"
      ],
      "text/plain": [
       "    HomeTeam   AwayTeam  FTR  HTHG  HTAG  HTR  HS  AS  HST  AST  HF  AF  HC  \\\n",
       "0    Everton    Arsenal    0     0     3    0   8  15    5    9  11  13   4   \n",
       "1  Tottenham  Liverpool    2     1     0    2  17   6   11    3  14  16   6   \n",
       "2       ManU    Arsenal    2     0     1    0  10   9    4    3  21  15   6   \n",
       "3       ManC    Arsenal    2     1     0    2  10  19    6    9  13  12   3   \n",
       "4  Tottenham       ManU    0     1     2    0  11  17    7   13  16  13   3   \n",
       "\n",
       "   AC  HY  AY  HR  AR  \n",
       "0   9   0   0   0   0  \n",
       "1   5   3   3   0   0  \n",
       "2   5   3   6   0   0  \n",
       "3  12   3   2   0   0  \n",
       "4   9   3   2   0   1  "
      ]
     },
     "execution_count": 51,
     "metadata": {},
     "output_type": "execute_result"
    }
   ],
   "source": [
    "df = pd.read_csv(\"../data/soccer.csv\")\n",
    "df.head()"
   ]
  },
  {
   "cell_type": "markdown",
   "id": "df5f7d84",
   "metadata": {},
   "source": [
    "# HomeTeam , AwayTeam"
   ]
  },
  {
   "cell_type": "code",
   "execution_count": 52,
   "id": "06ddde82",
   "metadata": {
    "ExecuteTime": {
     "end_time": "2021-09-08T19:08:48.412479Z",
     "start_time": "2021-09-08T19:08:48.408471Z"
    }
   },
   "outputs": [
    {
     "data": {
      "text/plain": [
       "Index(['HomeTeam', 'AwayTeam', 'FTR', 'HTHG', 'HTAG', 'HTR', 'HS', 'AS', 'HST',\n",
       "       'AST', 'HF', 'AF', 'HC', 'AC', 'HY', 'AY', 'HR', 'AR'],\n",
       "      dtype='object')"
      ]
     },
     "execution_count": 52,
     "metadata": {},
     "output_type": "execute_result"
    }
   ],
   "source": [
    "df.columns"
   ]
  },
  {
   "cell_type": "code",
   "execution_count": 53,
   "id": "3290d36f",
   "metadata": {
    "ExecuteTime": {
     "end_time": "2021-09-08T19:08:48.421436Z",
     "start_time": "2021-09-08T19:08:48.412479Z"
    }
   },
   "outputs": [],
   "source": [
    "# HomeTeam/AwayTeam 원-핫 인코딩\n",
    "df = pd.get_dummies(data=df, columns=['HomeTeam'], prefix = 'H')\n",
    "df = pd.get_dummies(data=df, columns=['AwayTeam'], prefix = 'A')"
   ]
  },
  {
   "cell_type": "code",
   "execution_count": 54,
   "id": "bc20afa6",
   "metadata": {
    "ExecuteTime": {
     "end_time": "2021-09-08T19:08:48.430438Z",
     "start_time": "2021-09-08T19:08:48.423431Z"
    }
   },
   "outputs": [
    {
     "data": {
      "text/plain": [
       "Index(['FTR', 'HTHG', 'HTAG', 'HTR', 'HS', 'AS', 'HST', 'AST', 'HF', 'AF',\n",
       "       'HC', 'AC', 'HY', 'AY', 'HR', 'AR', 'H_Arsenal', 'H_Chelsea',\n",
       "       'H_Everton', 'H_Liverpool', 'H_ManC', 'H_ManU', 'H_Tottenham',\n",
       "       'A_Arsenal', 'A_Chelsea', 'A_Everton', 'A_Liverpool', 'A_ManC',\n",
       "       'A_ManU', 'A_Tottenham'],\n",
       "      dtype='object')"
      ]
     },
     "execution_count": 54,
     "metadata": {},
     "output_type": "execute_result"
    }
   ],
   "source": [
    "df.columns"
   ]
  },
  {
   "cell_type": "markdown",
   "id": "765aa0a6",
   "metadata": {},
   "source": [
    "# Train_test_split"
   ]
  },
  {
   "cell_type": "code",
   "execution_count": 55,
   "id": "051f4003",
   "metadata": {
    "ExecuteTime": {
     "end_time": "2021-09-08T19:08:49.411754Z",
     "start_time": "2021-09-08T19:08:49.407765Z"
    }
   },
   "outputs": [],
   "source": [
    "feature = df.columns.drop('FTR')\n",
    "label = ['FTR']"
   ]
  },
  {
   "cell_type": "code",
   "execution_count": 56,
   "id": "905c1afd",
   "metadata": {
    "ExecuteTime": {
     "end_time": "2021-09-08T19:08:49.418757Z",
     "start_time": "2021-09-08T19:08:49.412752Z"
    }
   },
   "outputs": [],
   "source": [
    "x_train , x_test, y_train, y_test = train_test_split(df[feature], df[label], test_size=0.3 , stratify= df['FTR'], random_state=2109031430)"
   ]
  },
  {
   "cell_type": "code",
   "execution_count": 57,
   "id": "92354f16",
   "metadata": {
    "ExecuteTime": {
     "end_time": "2021-09-08T19:08:49.436710Z",
     "start_time": "2021-09-08T19:08:49.419754Z"
    }
   },
   "outputs": [
    {
     "name": "stdout",
     "output_type": "stream",
     "text": [
      "2    0.493197\n",
      "1    0.282313\n",
      "0    0.224490\n",
      "Name: FTR, dtype: float64\n",
      "-----------------------------------------\n",
      "2    0.500000\n",
      "1    0.277778\n",
      "0    0.222222\n",
      "Name: FTR, dtype: float64\n"
     ]
    }
   ],
   "source": [
    "# 종속변수 비율 확인\n",
    "print(y_train['FTR'].value_counts()/len(y_train))\n",
    "print(\"-----------------------------------------\")\n",
    "print(y_test['FTR'].value_counts()/len(y_test))"
   ]
  },
  {
   "cell_type": "code",
   "execution_count": 58,
   "id": "46b10599",
   "metadata": {
    "ExecuteTime": {
     "end_time": "2021-09-08T19:08:49.443682Z",
     "start_time": "2021-09-08T19:08:49.438683Z"
    }
   },
   "outputs": [],
   "source": [
    "x_train.reset_index(inplace = True , drop = True)\n",
    "y_train.reset_index(inplace = True , drop = True)\n",
    "x_test.reset_index(inplace = True , drop = True)\n",
    "y_test.reset_index(inplace = True , drop = True)"
   ]
  },
  {
   "cell_type": "markdown",
   "id": "4da8fb68",
   "metadata": {},
   "source": [
    "# 분석"
   ]
  },
  {
   "cell_type": "markdown",
   "id": "1d0b2e5f",
   "metadata": {},
   "source": [
    "## RandomForestClassifier"
   ]
  },
  {
   "cell_type": "code",
   "execution_count": 59,
   "id": "69eed8d3",
   "metadata": {},
   "outputs": [
    {
     "data": {
      "text/plain": [
       "RandomForestClassifier(max_depth=3, random_state=2109031430)"
      ]
     },
     "execution_count": 59,
     "metadata": {},
     "output_type": "execute_result"
    }
   ],
   "source": [
    "forest_clf = RandomForestClassifier(random_state=2109031430 , max_depth = 3)\n",
    "\n",
    "forest_clf.fit(x_train, y_train)"
   ]
  },
  {
   "cell_type": "markdown",
   "id": "0c6249e0",
   "metadata": {},
   "source": [
    "### Train 정확도"
   ]
  },
  {
   "cell_type": "code",
   "execution_count": 60,
   "id": "9806ec15",
   "metadata": {
    "ExecuteTime": {
     "end_time": "2021-09-08T19:08:49.613784Z",
     "start_time": "2021-09-08T19:08:49.598851Z"
    }
   },
   "outputs": [
    {
     "name": "stdout",
     "output_type": "stream",
     "text": [
      "train 정확도 : 0.74\n"
     ]
    }
   ],
   "source": [
    "y_pred = forest_clf.predict(x_train)\n",
    "\n",
    "print( \"train 정확도 : {:0.2f}\".format(accuracy_score(y_train , y_pred)))"
   ]
  },
  {
   "cell_type": "markdown",
   "id": "e5c5d9a8",
   "metadata": {},
   "source": [
    "### 테스트 정확도"
   ]
  },
  {
   "cell_type": "code",
   "execution_count": 61,
   "id": "e32f11b3",
   "metadata": {
    "ExecuteTime": {
     "end_time": "2021-09-08T19:08:49.672626Z",
     "start_time": "2021-09-08T19:08:49.657667Z"
    }
   },
   "outputs": [
    {
     "name": "stdout",
     "output_type": "stream",
     "text": [
      "test 정확도 : 0.66\n"
     ]
    }
   ],
   "source": [
    "y_pred = forest_clf.predict(x_test)\n",
    "\n",
    "print( \"test 정확도 : {:0.2f}\".format(accuracy_score(y_test , y_pred)))"
   ]
  },
  {
   "cell_type": "markdown",
   "id": "c1ea7ff2",
   "metadata": {},
   "source": [
    "### 혼돈 행렬"
   ]
  },
  {
   "cell_type": "code",
   "execution_count": 62,
   "id": "766718ea",
   "metadata": {
    "ExecuteTime": {
     "end_time": "2021-09-08T19:08:49.752442Z",
     "start_time": "2021-09-08T19:08:49.738458Z"
    }
   },
   "outputs": [
    {
     "name": "stdout",
     "output_type": "stream",
     "text": [
      "[[21  5  2]\n",
      " [ 6  9 20]\n",
      " [ 4  6 53]]\n"
     ]
    }
   ],
   "source": [
    "# 행 : 실제 값 , 열 : 예측 값\n",
    "y_pred = forest_clf.predict(x_test)\n",
    "\n",
    "cf = confusion_matrix(y_test, y_pred)\n",
    "print(cf)"
   ]
  },
  {
   "cell_type": "code",
   "execution_count": 63,
   "id": "8cb194d5",
   "metadata": {
    "ExecuteTime": {
     "end_time": "2021-09-08T19:08:49.758422Z",
     "start_time": "2021-09-08T19:08:49.753410Z"
    }
   },
   "outputs": [
    {
     "data": {
      "text/plain": [
       "array([[[88, 10],\n",
       "        [ 7, 21]],\n",
       "\n",
       "       [[80, 11],\n",
       "        [26,  9]],\n",
       "\n",
       "       [[41, 22],\n",
       "        [10, 53]]], dtype=int64)"
      ]
     },
     "execution_count": 63,
     "metadata": {},
     "output_type": "execute_result"
    }
   ],
   "source": [
    "multilabel_confusion_matrix(y_test, y_pred)"
   ]
  },
  {
   "cell_type": "code",
   "execution_count": 64,
   "id": "4b795ac0",
   "metadata": {},
   "outputs": [
    {
     "name": "stdout",
     "output_type": "stream",
     "text": [
      "              precision    recall  f1-score   support\n",
      "\n",
      "           패       0.68      0.75      0.71        28\n",
      "           무       0.45      0.26      0.33        35\n",
      "           승       0.71      0.84      0.77        63\n",
      "\n",
      "    accuracy                           0.66       126\n",
      "   macro avg       0.61      0.62      0.60       126\n",
      "weighted avg       0.63      0.66      0.63       126\n",
      "\n"
     ]
    }
   ],
   "source": [
    "print(classification_report(y_test , y_pred , target_names = [\"패\" , \"무\" , \"승\"]))"
   ]
  },
  {
   "cell_type": "markdown",
   "id": "c180b9c0",
   "metadata": {},
   "source": [
    "## 의사결정나무"
   ]
  },
  {
   "cell_type": "code",
   "execution_count": 65,
   "id": "5e3286fb",
   "metadata": {
    "ExecuteTime": {
     "end_time": "2021-09-08T19:08:49.911986Z",
     "start_time": "2021-09-08T19:08:49.905005Z"
    }
   },
   "outputs": [],
   "source": [
    "dt_clf = DecisionTreeClassifier(random_state=2109031430 , max_depth = 2)\n",
    "\n",
    "dt_clf = dt_clf.fit(x_train, y_train)"
   ]
  },
  {
   "cell_type": "markdown",
   "id": "604b40e7",
   "metadata": {},
   "source": [
    "### Train 정확도"
   ]
  },
  {
   "cell_type": "code",
   "execution_count": 66,
   "id": "d62d5958",
   "metadata": {
    "ExecuteTime": {
     "end_time": "2021-09-08T19:08:49.993792Z",
     "start_time": "2021-09-08T19:08:49.987807Z"
    }
   },
   "outputs": [
    {
     "name": "stdout",
     "output_type": "stream",
     "text": [
      "train 정확도 : 0.66\n"
     ]
    }
   ],
   "source": [
    "y_pred = dt_clf.predict(x_train)\n",
    "\n",
    "print( \"train 정확도 : {:0.2f}\".format(accuracy_score(y_train , y_pred)))"
   ]
  },
  {
   "cell_type": "markdown",
   "id": "6d5271b2",
   "metadata": {},
   "source": [
    "### 테스트 정확도"
   ]
  },
  {
   "cell_type": "code",
   "execution_count": 67,
   "id": "b3e99db5",
   "metadata": {
    "ExecuteTime": {
     "end_time": "2021-09-08T19:08:50.076546Z",
     "start_time": "2021-09-08T19:08:50.070561Z"
    }
   },
   "outputs": [
    {
     "name": "stdout",
     "output_type": "stream",
     "text": [
      "test 정확도 : 0.65\n"
     ]
    }
   ],
   "source": [
    "y_pred = dt_clf.predict(x_test)\n",
    "\n",
    "print( \"test 정확도 : {:0.2f}\".format(accuracy_score(y_test , y_pred)))"
   ]
  },
  {
   "cell_type": "markdown",
   "id": "40ccd01f",
   "metadata": {},
   "source": [
    "### 혼동행렬"
   ]
  },
  {
   "cell_type": "code",
   "execution_count": 68,
   "id": "fabe1b90",
   "metadata": {
    "ExecuteTime": {
     "end_time": "2021-09-08T19:08:50.157358Z",
     "start_time": "2021-09-08T19:08:50.153340Z"
    }
   },
   "outputs": [
    {
     "name": "stdout",
     "output_type": "stream",
     "text": [
      "[[20  7  1]\n",
      " [ 6 23  6]\n",
      " [ 1 23 39]]\n"
     ]
    }
   ],
   "source": [
    "cm = confusion_matrix(y_test , y_pred)\n",
    "print(cm)"
   ]
  },
  {
   "cell_type": "code",
   "execution_count": 69,
   "id": "b1f091f9",
   "metadata": {
    "ExecuteTime": {
     "end_time": "2021-09-08T19:08:50.163341Z",
     "start_time": "2021-09-08T19:08:50.158338Z"
    }
   },
   "outputs": [
    {
     "data": {
      "text/plain": [
       "array([[[91,  7],\n",
       "        [ 8, 20]],\n",
       "\n",
       "       [[61, 30],\n",
       "        [12, 23]],\n",
       "\n",
       "       [[56,  7],\n",
       "        [24, 39]]], dtype=int64)"
      ]
     },
     "execution_count": 69,
     "metadata": {},
     "output_type": "execute_result"
    }
   ],
   "source": [
    "multilabel_confusion_matrix(y_test, y_pred)"
   ]
  },
  {
   "cell_type": "code",
   "execution_count": 70,
   "id": "e1bd2325",
   "metadata": {
    "ExecuteTime": {
     "end_time": "2021-09-08T19:08:50.172289Z",
     "start_time": "2021-09-08T19:08:50.164311Z"
    }
   },
   "outputs": [
    {
     "name": "stdout",
     "output_type": "stream",
     "text": [
      "              precision    recall  f1-score   support\n",
      "\n",
      "           패       0.74      0.71      0.73        28\n",
      "           무       0.43      0.66      0.52        35\n",
      "           승       0.85      0.62      0.72        63\n",
      "\n",
      "    accuracy                           0.65       126\n",
      "   macro avg       0.67      0.66      0.66       126\n",
      "weighted avg       0.71      0.65      0.66       126\n",
      "\n"
     ]
    }
   ],
   "source": [
    "print(classification_report(y_test , y_pred , target_names = [\"패\" , \"무\" , \"승\"]))"
   ]
  },
  {
   "cell_type": "markdown",
   "id": "c577d5c9",
   "metadata": {},
   "source": [
    "### 시각화"
   ]
  },
  {
   "cell_type": "code",
   "execution_count": 71,
   "id": "7a243594",
   "metadata": {
    "ExecuteTime": {
     "end_time": "2021-09-08T19:08:50.252076Z",
     "start_time": "2021-09-08T19:08:50.249109Z"
    }
   },
   "outputs": [],
   "source": [
    "os.environ[\"PATH\"] += os.pathsep + 'C:\\Program Files\\Graphviz\\bin'"
   ]
  },
  {
   "cell_type": "code",
   "execution_count": 72,
   "id": "7c5fc702",
   "metadata": {
    "ExecuteTime": {
     "end_time": "2021-09-08T19:08:50.258061Z",
     "start_time": "2021-09-08T19:08:50.253073Z"
    }
   },
   "outputs": [],
   "source": [
    "feature_names = x_test.columns.tolist()"
   ]
  },
  {
   "cell_type": "code",
   "execution_count": 73,
   "id": "ec139797",
   "metadata": {
    "ExecuteTime": {
     "end_time": "2021-09-08T19:08:50.262050Z",
     "start_time": "2021-09-08T19:08:50.259058Z"
    }
   },
   "outputs": [],
   "source": [
    "feature_names = feature_names"
   ]
  },
  {
   "cell_type": "code",
   "execution_count": 74,
   "id": "edfd9840",
   "metadata": {
    "ExecuteTime": {
     "end_time": "2021-09-08T19:08:50.267037Z",
     "start_time": "2021-09-08T19:08:50.263047Z"
    }
   },
   "outputs": [],
   "source": [
    "target_name = np.array(['HOME_Defeat', 'HOME_tie' , 'HOME_WIN'])"
   ]
  },
  {
   "cell_type": "code",
   "execution_count": 75,
   "id": "5ca1f73f",
   "metadata": {
    "ExecuteTime": {
     "end_time": "2021-09-08T19:08:50.273021Z",
     "start_time": "2021-09-08T19:08:50.268034Z"
    }
   },
   "outputs": [],
   "source": [
    "dt_dot_data = tree.export_graphviz(dt_clf, out_file = None,\n",
    "                                  feature_names = feature_names,\n",
    "                                  class_names = target_name,\n",
    "                                  filled = True, rounded = True,\n",
    "                                  special_characters = True)"
   ]
  },
  {
   "cell_type": "code",
   "execution_count": 76,
   "id": "11878113",
   "metadata": {
    "ExecuteTime": {
     "end_time": "2021-09-08T19:08:50.326876Z",
     "start_time": "2021-09-08T19:08:50.275015Z"
    }
   },
   "outputs": [],
   "source": [
    "dt_graph = pydotplus.graph_from_dot_data(dt_dot_data)"
   ]
  },
  {
   "cell_type": "code",
   "execution_count": 77,
   "id": "73a4065f",
   "metadata": {
    "ExecuteTime": {
     "end_time": "2021-09-08T19:08:50.468525Z",
     "start_time": "2021-09-08T19:08:50.327873Z"
    }
   },
   "outputs": [
    {
     "data": {
      "image/png": "[encoded data removed]",
      "text/plain": [
       "<IPython.core.display.Image object>"
      ]
     },
     "execution_count": 77,
     "metadata": {},
     "output_type": "execute_result"
    }
   ],
   "source": [
    "Image(dt_graph.create_png())"
   ]
  },
  {
   "cell_type": "markdown",
   "id": "b3b077d2",
   "metadata": {},
   "source": [
    "## Gradient Boosting Model"
   ]
  },
  {
   "cell_type": "code",
   "execution_count": 78,
   "id": "861fbb03",
   "metadata": {
    "ExecuteTime": {
     "end_time": "2021-09-08T19:08:50.702480Z",
     "start_time": "2021-09-08T19:08:50.472511Z"
    }
   },
   "outputs": [
    {
     "data": {
      "text/plain": [
       "GradientBoostingClassifier(random_state=2109031430)"
      ]
     },
     "execution_count": 78,
     "metadata": {},
     "output_type": "execute_result"
    }
   ],
   "source": [
    "gbc = GradientBoostingClassifier(random_state=2109031430) # 기본값: max_depth=3, learning_rate=0.1\n",
    "\n",
    "gbc.fit(x_train, y_train)"
   ]
  },
  {
   "cell_type": "markdown",
   "id": "7e59facb",
   "metadata": {},
   "source": [
    "### Train 정확도"
   ]
  },
  {
   "cell_type": "code",
   "execution_count": 79,
   "id": "ed2df64c",
   "metadata": {
    "ExecuteTime": {
     "end_time": "2021-09-08T19:08:50.710458Z",
     "start_time": "2021-09-08T19:08:50.703451Z"
    }
   },
   "outputs": [
    {
     "name": "stdout",
     "output_type": "stream",
     "text": [
      "train 정확도 : 1.00\n"
     ]
    }
   ],
   "source": [
    "y_pred = gbc.predict(x_train)\n",
    "score_train = accuracy_score(y_train , y_pred)\n",
    "print( \"train 정확도 : {:0.2f}\".format(accuracy_score(y_train , y_pred)))"
   ]
  },
  {
   "cell_type": "markdown",
   "id": "0f610129",
   "metadata": {},
   "source": [
    "### 테스트 정확도"
   ]
  },
  {
   "cell_type": "code",
   "execution_count": 80,
   "id": "eea24cee",
   "metadata": {
    "ExecuteTime": {
     "end_time": "2021-09-08T19:08:50.718411Z",
     "start_time": "2021-09-08T19:08:50.711429Z"
    }
   },
   "outputs": [
    {
     "name": "stdout",
     "output_type": "stream",
     "text": [
      "test 정확도 : 0.68\n"
     ]
    }
   ],
   "source": [
    "y_pred = gbc.predict(x_test)\n",
    "score_test = accuracy_score(y_test , y_pred)\n",
    "print( \"test 정확도 : {:0.2f}\".format(accuracy_score(y_test , y_pred)))"
   ]
  },
  {
   "cell_type": "markdown",
   "id": "a04d4ba1",
   "metadata": {},
   "source": [
    "### 과적합 방지"
   ]
  },
  {
   "cell_type": "markdown",
   "id": "87d475e3",
   "metadata": {},
   "source": [
    "#### V1"
   ]
  },
  {
   "cell_type": "code",
   "execution_count": 81,
   "id": "dfdb2b62",
   "metadata": {
    "ExecuteTime": {
     "end_time": "2021-09-08T19:08:50.989349Z",
     "start_time": "2021-09-08T19:08:50.842107Z"
    }
   },
   "outputs": [
    {
     "data": {
      "text/plain": [
       "GradientBoostingClassifier(max_depth=1, random_state=2109031430)"
      ]
     },
     "execution_count": 81,
     "metadata": {},
     "output_type": "execute_result"
    }
   ],
   "source": [
    "# overfitting을 막기 위해 트리의 깊이를 줄여 pre-pruning(가지치기)을 강하게 진행\n",
    "gbc = GradientBoostingClassifier(random_state=2109031430, max_depth=1)\n",
    "\n",
    "gbc.fit(x_train, y_train)"
   ]
  },
  {
   "cell_type": "code",
   "execution_count": 82,
   "id": "1e4d2c77",
   "metadata": {
    "ExecuteTime": {
     "end_time": "2021-09-08T19:08:50.996328Z",
     "start_time": "2021-09-08T19:08:50.990330Z"
    }
   },
   "outputs": [
    {
     "name": "stdout",
     "output_type": "stream",
     "text": [
      "train 정확도 : 0.77\n"
     ]
    }
   ],
   "source": [
    "y_pred = gbc.predict(x_train)\n",
    "score_train_pre = accuracy_score(y_train , y_pred)\n",
    "print( \"train 정확도 : {:0.2f}\".format(accuracy_score(y_train , y_pred)))"
   ]
  },
  {
   "cell_type": "code",
   "execution_count": 83,
   "id": "87743e9a",
   "metadata": {
    "ExecuteTime": {
     "end_time": "2021-09-08T19:08:51.003309Z",
     "start_time": "2021-09-08T19:08:50.998317Z"
    }
   },
   "outputs": [
    {
     "name": "stdout",
     "output_type": "stream",
     "text": [
      "test 정확도 : 0.62\n"
     ]
    }
   ],
   "source": [
    "y_pred = gbc.predict(x_test)\n",
    "score_test_pre = accuracy_score(y_test , y_pred)\n",
    "print( \"test 정확도 : {:0.2f}\".format(accuracy_score(y_test , y_pred)))"
   ]
  },
  {
   "cell_type": "markdown",
   "id": "acaebe51",
   "metadata": {},
   "source": [
    "#### 혼동행렬"
   ]
  },
  {
   "cell_type": "code",
   "execution_count": 84,
   "id": "3152768f",
   "metadata": {
    "ExecuteTime": {
     "end_time": "2021-09-08T19:08:51.009270Z",
     "start_time": "2021-09-08T19:08:51.004313Z"
    }
   },
   "outputs": [
    {
     "name": "stdout",
     "output_type": "stream",
     "text": [
      "[[18  7  3]\n",
      " [ 6 17 12]\n",
      " [ 7 13 43]]\n"
     ]
    }
   ],
   "source": [
    "cm = confusion_matrix(y_test , y_pred)\n",
    "print(cm)"
   ]
  },
  {
   "cell_type": "code",
   "execution_count": 85,
   "id": "150b9678",
   "metadata": {
    "ExecuteTime": {
     "end_time": "2021-09-08T19:08:51.015282Z",
     "start_time": "2021-09-08T19:08:51.010272Z"
    }
   },
   "outputs": [
    {
     "data": {
      "text/plain": [
       "array([[[85, 13],\n",
       "        [10, 18]],\n",
       "\n",
       "       [[71, 20],\n",
       "        [18, 17]],\n",
       "\n",
       "       [[48, 15],\n",
       "        [20, 43]]], dtype=int64)"
      ]
     },
     "execution_count": 85,
     "metadata": {},
     "output_type": "execute_result"
    }
   ],
   "source": [
    "multilabel_confusion_matrix(y_test, y_pred)"
   ]
  },
  {
   "cell_type": "code",
   "execution_count": 86,
   "id": "505a9b5c",
   "metadata": {
    "ExecuteTime": {
     "end_time": "2021-09-08T19:08:51.022235Z",
     "start_time": "2021-09-08T19:08:51.016250Z"
    }
   },
   "outputs": [
    {
     "name": "stdout",
     "output_type": "stream",
     "text": [
      "              precision    recall  f1-score   support\n",
      "\n",
      "           패       0.58      0.64      0.61        28\n",
      "           무       0.46      0.49      0.47        35\n",
      "           승       0.74      0.68      0.71        63\n",
      "\n",
      "    accuracy                           0.62       126\n",
      "   macro avg       0.59      0.60      0.60       126\n",
      "weighted avg       0.63      0.62      0.62       126\n",
      "\n"
     ]
    }
   ],
   "source": [
    "print(classification_report(y_test , y_pred , target_names = [\"패\" , \"무\" , \"승\"]))"
   ]
  },
  {
   "cell_type": "markdown",
   "id": "4a641b89",
   "metadata": {},
   "source": [
    "#### V2"
   ]
  },
  {
   "cell_type": "code",
   "execution_count": 87,
   "id": "ae9483bf",
   "metadata": {
    "ExecuteTime": {
     "end_time": "2021-09-08T19:08:51.300662Z",
     "start_time": "2021-09-08T19:08:51.058167Z"
    }
   },
   "outputs": [
    {
     "data": {
      "text/plain": [
       "GradientBoostingClassifier(learning_rate=0.003, random_state=2109031430)"
      ]
     },
     "execution_count": 87,
     "metadata": {},
     "output_type": "execute_result"
    }
   ],
   "source": [
    "# learning_rate 조절하여 overfitting을 해결\n",
    "gbc = GradientBoostingClassifier(random_state=2109031430 , learning_rate=0.003) # 기본값 0.1\n",
    "\n",
    "gbc.fit(x_train, y_train)"
   ]
  },
  {
   "cell_type": "code",
   "execution_count": 88,
   "id": "7684b820",
   "metadata": {
    "ExecuteTime": {
     "end_time": "2021-09-08T19:08:51.309638Z",
     "start_time": "2021-09-08T19:08:51.301675Z"
    }
   },
   "outputs": [
    {
     "name": "stdout",
     "output_type": "stream",
     "text": [
      "train 정확도 : 0.62\n"
     ]
    }
   ],
   "source": [
    "y_pred = gbc.predict(x_train)\n",
    "score_train_lr = accuracy_score(y_train , y_pred)\n",
    "print( \"train 정확도 : {:0.2f}\".format(accuracy_score(y_train , y_pred)))"
   ]
  },
  {
   "cell_type": "code",
   "execution_count": 89,
   "id": "b4940100",
   "metadata": {
    "ExecuteTime": {
     "end_time": "2021-09-08T19:08:51.317616Z",
     "start_time": "2021-09-08T19:08:51.310666Z"
    }
   },
   "outputs": [
    {
     "name": "stdout",
     "output_type": "stream",
     "text": [
      "test 정확도 : 0.58\n"
     ]
    }
   ],
   "source": [
    "y_pred = gbc.predict(x_test)\n",
    "score_test_lr = accuracy_score(y_test , y_pred)\n",
    "print( \"test 정확도 : {:0.2f}\".format(accuracy_score(y_test , y_pred)))"
   ]
  },
  {
   "cell_type": "markdown",
   "id": "884ecec9",
   "metadata": {},
   "source": [
    "#### 혼동행렬"
   ]
  },
  {
   "cell_type": "code",
   "execution_count": 90,
   "id": "d0e29bb7",
   "metadata": {
    "ExecuteTime": {
     "end_time": "2021-09-08T19:08:51.323601Z",
     "start_time": "2021-09-08T19:08:51.318615Z"
    }
   },
   "outputs": [
    {
     "name": "stdout",
     "output_type": "stream",
     "text": [
      "[[12  0 16]\n",
      " [ 1  3 31]\n",
      " [ 1  4 58]]\n"
     ]
    }
   ],
   "source": [
    "cm = confusion_matrix(y_test , y_pred)\n",
    "print(cm)"
   ]
  },
  {
   "cell_type": "code",
   "execution_count": 91,
   "id": "b463ee00",
   "metadata": {
    "ExecuteTime": {
     "end_time": "2021-09-08T19:08:51.329585Z",
     "start_time": "2021-09-08T19:08:51.324616Z"
    }
   },
   "outputs": [
    {
     "data": {
      "text/plain": [
       "array([[[96,  2],\n",
       "        [16, 12]],\n",
       "\n",
       "       [[87,  4],\n",
       "        [32,  3]],\n",
       "\n",
       "       [[16, 47],\n",
       "        [ 5, 58]]], dtype=int64)"
      ]
     },
     "execution_count": 91,
     "metadata": {},
     "output_type": "execute_result"
    }
   ],
   "source": [
    "multilabel_confusion_matrix(y_test, y_pred)"
   ]
  },
  {
   "cell_type": "code",
   "execution_count": 92,
   "id": "d8a4ff62",
   "metadata": {
    "ExecuteTime": {
     "end_time": "2021-09-08T19:08:51.337591Z",
     "start_time": "2021-09-08T19:08:51.330582Z"
    }
   },
   "outputs": [
    {
     "name": "stdout",
     "output_type": "stream",
     "text": [
      "              precision    recall  f1-score   support\n",
      "\n",
      "           패       0.86      0.43      0.57        28\n",
      "           무       0.43      0.09      0.14        35\n",
      "           승       0.55      0.92      0.69        63\n",
      "\n",
      "    accuracy                           0.58       126\n",
      "   macro avg       0.61      0.48      0.47       126\n",
      "weighted avg       0.59      0.58      0.51       126\n",
      "\n"
     ]
    }
   ],
   "source": [
    "print(classification_report(y_test , y_pred , target_names = [\"패\" , \"무\" , \"승\"]))"
   ]
  },
  {
   "cell_type": "markdown",
   "id": "030044c3",
   "metadata": {},
   "source": [
    "#### 확인"
   ]
  },
  {
   "cell_type": "code",
   "execution_count": 93,
   "id": "684c937a",
   "metadata": {
    "ExecuteTime": {
     "end_time": "2021-09-08T19:08:51.343548Z",
     "start_time": "2021-09-08T19:08:51.338562Z"
    }
   },
   "outputs": [],
   "source": [
    "score_set = np.round([score_train, score_test], 3)\n",
    "max_depth_score_set = np.round([score_train_pre, score_test_pre], 3)\n",
    "learning_rete_score_set = np.round([score_train_lr, score_test_lr], 3)\n",
    "\n",
    "index = np.arange(len(score_set))\n",
    "bar_width = 0.35\n",
    "bottom = 0.5\n",
    "\n",
    "list_set = [max_depth_score_set, learning_rete_score_set]\n",
    "line_set = ['--', ':']\n",
    "names = ['train', 'test']"
   ]
  },
  {
   "cell_type": "code",
   "execution_count": 94,
   "id": "1bf6a7ad",
   "metadata": {
    "ExecuteTime": {
     "end_time": "2021-09-08T19:08:51.506113Z",
     "start_time": "2021-09-08T19:08:51.344545Z"
    }
   },
   "outputs": [
    {
     "data": {
      "image/png": "[encoded data removed]",
      "text/plain": [
       "<Figure size 432x288 with 1 Axes>"
      ]
     },
     "metadata": {
      "needs_background": "light"
     },
     "output_type": "display_data"
    }
   ],
   "source": [
    "for i, line_set, name in zip(index, line_set, names):\n",
    "    plt.hlines(score_set[i], xmin=0-bar_width,\n",
    "               xmax=index[-1]+2*bar_width,\n",
    "               linestyle=line_set, label='default {}'.format(name))\n",
    "    plt.text(0-bar_width, score_set[i]+0.005, str(score_set[i]))\n",
    "\n",
    "plt.bar(index, max_depth_score_set, width=bar_width, label='adj max_depth')\n",
    "plt.bar(index+bar_width, learning_rete_score_set, width=bar_width, label='adj learning rate')\n",
    "\n",
    "for i, ts, te in zip(index, max_depth_score_set, learning_rete_score_set):\n",
    "    plt.text(i, (bottom+ts)/2, str(ts), horizontalalignment='center')\n",
    "    plt.text(i+bar_width, (bottom+te)/2, str(te), horizontalalignment='center')\n",
    "\n",
    "plt.ylim(bottom, 1)\n",
    "plt.xticks(index+bar_width/2, names)\n",
    "plt.ylabel('score', size=15)\n",
    "plt.legend(loc='upper center', bbox_to_anchor=(0.5, 1.1), ncol=4, fancybox=True, shadow=False)\n",
    "plt.show()"
   ]
  }
 ],
 "metadata": {
  "hide_input": false,
  "kernelspec": {
   "display_name": "Python 3",
   "language": "python",
   "name": "python3"
  },
  "language_info": {
   "codemirror_mode": {
    "name": "ipython",
    "version": 3
   },
   "file_extension": ".py",
   "mimetype": "text/x-python",
   "name": "python",
   "nbconvert_exporter": "python",
   "pygments_lexer": "ipython3",
   "version": "3.8.8"
  },
  "toc": {
   "base_numbering": 1,
   "nav_menu": {},
   "number_sections": true,
   "sideBar": true,
   "skip_h1_title": false,
   "title_cell": "Table of Contents",
   "title_sidebar": "Contents",
   "toc_cell": false,
   "toc_position": {},
   "toc_section_display": true,
   "toc_window_display": true
  },
  "varInspector": {
   "cols": {
    "lenName": 16,
    "lenType": 16,
    "lenVar": 40
   },
   "kernels_config": {
    "python": {
     "delete_cmd_postfix": "",
     "delete_cmd_prefix": "del ",
     "library": "var_list.py",
     "varRefreshCmd": "print(var_dic_list())"
    },
    "r": {
     "delete_cmd_postfix": ") ",
     "delete_cmd_prefix": "rm(",
     "library": "var_list.r",
     "varRefreshCmd": "cat(var_dic_list()) "
    }
   },
   "types_to_exclude": [
    "module",
    "function",
    "builtin_function_or_method",
    "instance",
    "_Feature"
   ],
   "window_display": false
  }
 },
 "nbformat": 4,
 "nbformat_minor": 5
}
